{
  "nbformat": 4,
  "nbformat_minor": 0,
  "metadata": {
    "colab": {
      "provenance": []
    },
    "kernelspec": {
      "name": "python3",
      "display_name": "Python 3"
    },
    "language_info": {
      "name": "python"
    }
  },
  "cells": [
    {
      "cell_type": "markdown",
      "source": [
        "### RNN-Based Text Generation\n",
        "\n",
        "#### Objectives\n",
        "Implement a simple RNN for text generation to deepend your understanding of how recurrent neural networks can be used to model sequences and generate text based on learned patterns."
      ],
      "metadata": {
        "id": "Xn1bg8pRvQcA"
      }
    },
    {
      "cell_type": "markdown",
      "source": [
        "### 1. RNN Model Implementation (10 Points)\n",
        "- Implement a basic Recurrent Neural Network model from scratch using PyTorch or TensorFlow. Your model should include an embedding layer, at least one RNN layer, and a fully connected layer for output. Refer to the **Recurrent Neural Networks (RNN)** section of the lectures for guidance on the architecture.\n",
        "- Use the **Long Short-Term Memory RNNs (LSTMs)** section as a reference to enhance your model with LSTM cells to improve its ability to capture long-term dependencies in text."
      ],
      "metadata": {
        "id": "mVOUVcXmvjaD"
      }
    },
    {
      "cell_type": "markdown",
      "source": [
        "# ----------------------------------------------------------------------------------\n",
        "### This part is for sketching the raw structures of the models for practice."
      ],
      "metadata": {
        "id": "EjeGJnWI1-kk"
      }
    },
    {
      "cell_type": "markdown",
      "source": [
        "1. Import libraries"
      ],
      "metadata": {
        "id": "7s0gM7j20Nqo"
      }
    },
    {
      "cell_type": "code",
      "execution_count": 1,
      "metadata": {
        "colab": {
          "base_uri": "https://localhost:8080/"
        },
        "id": "57hb02eHvOTY",
        "outputId": "f789e347-1875-47b1-9a8d-8a391e5b0bdd"
      },
      "outputs": [
        {
          "output_type": "stream",
          "name": "stdout",
          "text": [
            "Collecting torch==2.0.0\n",
            "  Downloading torch-2.0.0-cp311-cp311-manylinux1_x86_64.whl.metadata (24 kB)\n",
            "Collecting torchtext\n",
            "  Downloading torchtext-0.18.0-cp311-cp311-manylinux1_x86_64.whl.metadata (7.9 kB)\n",
            "Requirement already satisfied: filelock in /usr/local/lib/python3.11/dist-packages (from torch==2.0.0) (3.17.0)\n",
            "Requirement already satisfied: typing-extensions in /usr/local/lib/python3.11/dist-packages (from torch==2.0.0) (4.12.2)\n",
            "Requirement already satisfied: sympy in /usr/local/lib/python3.11/dist-packages (from torch==2.0.0) (1.13.1)\n",
            "Requirement already satisfied: networkx in /usr/local/lib/python3.11/dist-packages (from torch==2.0.0) (3.4.2)\n",
            "Requirement already satisfied: jinja2 in /usr/local/lib/python3.11/dist-packages (from torch==2.0.0) (3.1.5)\n",
            "Collecting nvidia-cuda-nvrtc-cu11==11.7.99 (from torch==2.0.0)\n",
            "  Downloading nvidia_cuda_nvrtc_cu11-11.7.99-2-py3-none-manylinux1_x86_64.whl.metadata (1.5 kB)\n",
            "Collecting nvidia-cuda-runtime-cu11==11.7.99 (from torch==2.0.0)\n",
            "  Downloading nvidia_cuda_runtime_cu11-11.7.99-py3-none-manylinux1_x86_64.whl.metadata (1.6 kB)\n",
            "Collecting nvidia-cuda-cupti-cu11==11.7.101 (from torch==2.0.0)\n",
            "  Downloading nvidia_cuda_cupti_cu11-11.7.101-py3-none-manylinux1_x86_64.whl.metadata (1.6 kB)\n",
            "Collecting nvidia-cudnn-cu11==8.5.0.96 (from torch==2.0.0)\n",
            "  Downloading nvidia_cudnn_cu11-8.5.0.96-2-py3-none-manylinux1_x86_64.whl.metadata (1.6 kB)\n",
            "Collecting nvidia-cublas-cu11==11.10.3.66 (from torch==2.0.0)\n",
            "  Downloading nvidia_cublas_cu11-11.10.3.66-py3-none-manylinux1_x86_64.whl.metadata (1.6 kB)\n",
            "Collecting nvidia-cufft-cu11==10.9.0.58 (from torch==2.0.0)\n",
            "  Downloading nvidia_cufft_cu11-10.9.0.58-py3-none-manylinux2014_x86_64.whl.metadata (1.5 kB)\n",
            "Collecting nvidia-curand-cu11==10.2.10.91 (from torch==2.0.0)\n",
            "  Downloading nvidia_curand_cu11-10.2.10.91-py3-none-manylinux1_x86_64.whl.metadata (1.6 kB)\n",
            "Collecting nvidia-cusolver-cu11==11.4.0.1 (from torch==2.0.0)\n",
            "  Downloading nvidia_cusolver_cu11-11.4.0.1-2-py3-none-manylinux1_x86_64.whl.metadata (1.6 kB)\n",
            "Collecting nvidia-cusparse-cu11==11.7.4.91 (from torch==2.0.0)\n",
            "  Downloading nvidia_cusparse_cu11-11.7.4.91-py3-none-manylinux1_x86_64.whl.metadata (1.6 kB)\n",
            "Collecting nvidia-nccl-cu11==2.14.3 (from torch==2.0.0)\n",
            "  Downloading nvidia_nccl_cu11-2.14.3-py3-none-manylinux1_x86_64.whl.metadata (1.8 kB)\n",
            "Collecting nvidia-nvtx-cu11==11.7.91 (from torch==2.0.0)\n",
            "  Downloading nvidia_nvtx_cu11-11.7.91-py3-none-manylinux1_x86_64.whl.metadata (1.7 kB)\n",
            "Collecting triton==2.0.0 (from torch==2.0.0)\n",
            "  Downloading triton-2.0.0-1-cp311-cp311-manylinux2014_x86_64.manylinux_2_17_x86_64.whl.metadata (1.0 kB)\n",
            "Requirement already satisfied: setuptools in /usr/local/lib/python3.11/dist-packages (from nvidia-cublas-cu11==11.10.3.66->torch==2.0.0) (75.1.0)\n",
            "Requirement already satisfied: wheel in /usr/local/lib/python3.11/dist-packages (from nvidia-cublas-cu11==11.10.3.66->torch==2.0.0) (0.45.1)\n",
            "Requirement already satisfied: cmake in /usr/local/lib/python3.11/dist-packages (from triton==2.0.0->torch==2.0.0) (3.31.4)\n",
            "Collecting lit (from triton==2.0.0->torch==2.0.0)\n",
            "  Downloading lit-18.1.8-py3-none-any.whl.metadata (2.5 kB)\n",
            "Requirement already satisfied: tqdm in /usr/local/lib/python3.11/dist-packages (from torchtext) (4.67.1)\n",
            "Requirement already satisfied: requests in /usr/local/lib/python3.11/dist-packages (from torchtext) (2.32.3)\n",
            "INFO: pip is looking at multiple versions of torchtext to determine which version is compatible with other requirements. This could take a while.\n",
            "Collecting torchtext\n",
            "  Downloading torchtext-0.17.2-cp311-cp311-manylinux1_x86_64.whl.metadata (7.9 kB)\n",
            "  Downloading torchtext-0.17.1-cp311-cp311-manylinux1_x86_64.whl.metadata (7.6 kB)\n",
            "  Downloading torchtext-0.17.0-cp311-cp311-manylinux1_x86_64.whl.metadata (7.6 kB)\n",
            "  Downloading torchtext-0.16.2-cp311-cp311-manylinux1_x86_64.whl.metadata (7.5 kB)\n",
            "  Downloading torchtext-0.16.1-cp311-cp311-manylinux1_x86_64.whl.metadata (7.5 kB)\n",
            "  Downloading torchtext-0.16.0-cp311-cp311-manylinux1_x86_64.whl.metadata (7.5 kB)\n",
            "  Downloading torchtext-0.15.2-cp311-cp311-manylinux1_x86_64.whl.metadata (7.4 kB)\n",
            "INFO: pip is still looking at multiple versions of torchtext to determine which version is compatible with other requirements. This could take a while.\n",
            "  Downloading torchtext-0.15.1-cp311-cp311-manylinux1_x86_64.whl.metadata (7.4 kB)\n",
            "Requirement already satisfied: numpy in /usr/local/lib/python3.11/dist-packages (from torchtext) (1.26.4)\n",
            "Collecting torchdata==0.6.0 (from torchtext)\n",
            "  Downloading torchdata-0.6.0-cp311-cp311-manylinux_2_17_x86_64.manylinux2014_x86_64.whl.metadata (892 bytes)\n",
            "Requirement already satisfied: urllib3>=1.25 in /usr/local/lib/python3.11/dist-packages (from torchdata==0.6.0->torchtext) (2.3.0)\n",
            "Requirement already satisfied: MarkupSafe>=2.0 in /usr/local/lib/python3.11/dist-packages (from jinja2->torch==2.0.0) (3.0.2)\n",
            "Requirement already satisfied: charset-normalizer<4,>=2 in /usr/local/lib/python3.11/dist-packages (from requests->torchtext) (3.4.1)\n",
            "Requirement already satisfied: idna<4,>=2.5 in /usr/local/lib/python3.11/dist-packages (from requests->torchtext) (3.10)\n",
            "Requirement already satisfied: certifi>=2017.4.17 in /usr/local/lib/python3.11/dist-packages (from requests->torchtext) (2025.1.31)\n",
            "Requirement already satisfied: mpmath<1.4,>=1.1.0 in /usr/local/lib/python3.11/dist-packages (from sympy->torch==2.0.0) (1.3.0)\n",
            "Downloading torch-2.0.0-cp311-cp311-manylinux1_x86_64.whl (619.9 MB)\n",
            "\u001b[2K   \u001b[90m━━━━━━━━━━━━━━━━━━━━━━━━━━━━━━━━━━━━━━━━\u001b[0m \u001b[32m619.9/619.9 MB\u001b[0m \u001b[31m3.1 MB/s\u001b[0m eta \u001b[36m0:00:00\u001b[0m\n",
            "\u001b[?25hDownloading nvidia_cublas_cu11-11.10.3.66-py3-none-manylinux1_x86_64.whl (317.1 MB)\n",
            "\u001b[2K   \u001b[90m━━━━━━━━━━━━━━━━━━━━━━━━━━━━━━━━━━━━━━━━\u001b[0m \u001b[32m317.1/317.1 MB\u001b[0m \u001b[31m4.6 MB/s\u001b[0m eta \u001b[36m0:00:00\u001b[0m\n",
            "\u001b[?25hDownloading nvidia_cuda_cupti_cu11-11.7.101-py3-none-manylinux1_x86_64.whl (11.8 MB)\n",
            "\u001b[2K   \u001b[90m━━━━━━━━━━━━━━━━━━━━━━━━━━━━━━━━━━━━━━━━\u001b[0m \u001b[32m11.8/11.8 MB\u001b[0m \u001b[31m94.8 MB/s\u001b[0m eta \u001b[36m0:00:00\u001b[0m\n",
            "\u001b[?25hDownloading nvidia_cuda_nvrtc_cu11-11.7.99-2-py3-none-manylinux1_x86_64.whl (21.0 MB)\n",
            "\u001b[2K   \u001b[90m━━━━━━━━━━━━━━━━━━━━━━━━━━━━━━━━━━━━━━━━\u001b[0m \u001b[32m21.0/21.0 MB\u001b[0m \u001b[31m73.1 MB/s\u001b[0m eta \u001b[36m0:00:00\u001b[0m\n",
            "\u001b[?25hDownloading nvidia_cuda_runtime_cu11-11.7.99-py3-none-manylinux1_x86_64.whl (849 kB)\n",
            "\u001b[2K   \u001b[90m━━━━━━━━━━━━━━━━━━━━━━━━━━━━━━━━━━━━━━━━\u001b[0m \u001b[32m849.3/849.3 kB\u001b[0m \u001b[31m44.5 MB/s\u001b[0m eta \u001b[36m0:00:00\u001b[0m\n",
            "\u001b[?25hDownloading nvidia_cudnn_cu11-8.5.0.96-2-py3-none-manylinux1_x86_64.whl (557.1 MB)\n",
            "\u001b[2K   \u001b[90m━━━━━━━━━━━━━━━━━━━━━━━━━━━━━━━━━━━━━━━━\u001b[0m \u001b[32m557.1/557.1 MB\u001b[0m \u001b[31m2.1 MB/s\u001b[0m eta \u001b[36m0:00:00\u001b[0m\n",
            "\u001b[?25hDownloading nvidia_cufft_cu11-10.9.0.58-py3-none-manylinux2014_x86_64.whl (168.4 MB)\n",
            "\u001b[2K   \u001b[90m━━━━━━━━━━━━━━━━━━━━━━━━━━━━━━━━━━━━━━━━\u001b[0m \u001b[32m168.4/168.4 MB\u001b[0m \u001b[31m7.1 MB/s\u001b[0m eta \u001b[36m0:00:00\u001b[0m\n",
            "\u001b[?25hDownloading nvidia_curand_cu11-10.2.10.91-py3-none-manylinux1_x86_64.whl (54.6 MB)\n",
            "\u001b[2K   \u001b[90m━━━━━━━━━━━━━━━━━━━━━━━━━━━━━━━━━━━━━━━━\u001b[0m \u001b[32m54.6/54.6 MB\u001b[0m \u001b[31m11.1 MB/s\u001b[0m eta \u001b[36m0:00:00\u001b[0m\n",
            "\u001b[?25hDownloading nvidia_cusolver_cu11-11.4.0.1-2-py3-none-manylinux1_x86_64.whl (102.6 MB)\n",
            "\u001b[2K   \u001b[90m━━━━━━━━━━━━━━━━━━━━━━━━━━━━━━━━━━━━━━━━\u001b[0m \u001b[32m102.6/102.6 MB\u001b[0m \u001b[31m8.1 MB/s\u001b[0m eta \u001b[36m0:00:00\u001b[0m\n",
            "\u001b[?25hDownloading nvidia_cusparse_cu11-11.7.4.91-py3-none-manylinux1_x86_64.whl (173.2 MB)\n",
            "\u001b[2K   \u001b[90m━━━━━━━━━━━━━━━━━━━━━━━━━━━━━━━━━━━━━━━━\u001b[0m \u001b[32m173.2/173.2 MB\u001b[0m \u001b[31m6.5 MB/s\u001b[0m eta \u001b[36m0:00:00\u001b[0m\n",
            "\u001b[?25hDownloading nvidia_nccl_cu11-2.14.3-py3-none-manylinux1_x86_64.whl (177.1 MB)\n",
            "\u001b[2K   \u001b[90m━━━━━━━━━━━━━━━━━━━━━━━━━━━━━━━━━━━━━━━━\u001b[0m \u001b[32m177.1/177.1 MB\u001b[0m \u001b[31m7.2 MB/s\u001b[0m eta \u001b[36m0:00:00\u001b[0m\n",
            "\u001b[?25hDownloading nvidia_nvtx_cu11-11.7.91-py3-none-manylinux1_x86_64.whl (98 kB)\n",
            "\u001b[2K   \u001b[90m━━━━━━━━━━━━━━━━━━━━━━━━━━━━━━━━━━━━━━━━\u001b[0m \u001b[32m98.6/98.6 kB\u001b[0m \u001b[31m6.6 MB/s\u001b[0m eta \u001b[36m0:00:00\u001b[0m\n",
            "\u001b[?25hDownloading triton-2.0.0-1-cp311-cp311-manylinux2014_x86_64.manylinux_2_17_x86_64.whl (63.3 MB)\n",
            "\u001b[2K   \u001b[90m━━━━━━━━━━━━━━━━━━━━━━━━━━━━━━━━━━━━━━━━\u001b[0m \u001b[32m63.3/63.3 MB\u001b[0m \u001b[31m11.3 MB/s\u001b[0m eta \u001b[36m0:00:00\u001b[0m\n",
            "\u001b[?25hDownloading torchtext-0.15.1-cp311-cp311-manylinux1_x86_64.whl (2.0 MB)\n",
            "\u001b[2K   \u001b[90m━━━━━━━━━━━━━━━━━━━━━━━━━━━━━━━━━━━━━━━━\u001b[0m \u001b[32m2.0/2.0 MB\u001b[0m \u001b[31m43.1 MB/s\u001b[0m eta \u001b[36m0:00:00\u001b[0m\n",
            "\u001b[?25hDownloading torchdata-0.6.0-cp311-cp311-manylinux_2_17_x86_64.manylinux2014_x86_64.whl (4.6 MB)\n",
            "\u001b[2K   \u001b[90m━━━━━━━━━━━━━━━━━━━━━━━━━━━━━━━━━━━━━━━━\u001b[0m \u001b[32m4.6/4.6 MB\u001b[0m \u001b[31m60.1 MB/s\u001b[0m eta \u001b[36m0:00:00\u001b[0m\n",
            "\u001b[?25hDownloading lit-18.1.8-py3-none-any.whl (96 kB)\n",
            "\u001b[2K   \u001b[90m━━━━━━━━━━━━━━━━━━━━━━━━━━━━━━━━━━━━━━━━\u001b[0m \u001b[32m96.4/96.4 kB\u001b[0m \u001b[31m6.0 MB/s\u001b[0m eta \u001b[36m0:00:00\u001b[0m\n",
            "\u001b[?25hInstalling collected packages: lit, nvidia-nvtx-cu11, nvidia-nccl-cu11, nvidia-cusparse-cu11, nvidia-curand-cu11, nvidia-cufft-cu11, nvidia-cuda-runtime-cu11, nvidia-cuda-nvrtc-cu11, nvidia-cuda-cupti-cu11, nvidia-cublas-cu11, nvidia-cusolver-cu11, nvidia-cudnn-cu11, triton, torch, torchdata, torchtext\n",
            "  Attempting uninstall: triton\n",
            "    Found existing installation: triton 3.1.0\n",
            "    Uninstalling triton-3.1.0:\n",
            "      Successfully uninstalled triton-3.1.0\n",
            "  Attempting uninstall: torch\n",
            "    Found existing installation: torch 2.5.1+cu124\n",
            "    Uninstalling torch-2.5.1+cu124:\n",
            "      Successfully uninstalled torch-2.5.1+cu124\n",
            "\u001b[31mERROR: pip's dependency resolver does not currently take into account all the packages that are installed. This behaviour is the source of the following dependency conflicts.\n",
            "torchvision 0.20.1+cu124 requires torch==2.5.1, but you have torch 2.0.0 which is incompatible.\n",
            "torchaudio 2.5.1+cu124 requires torch==2.5.1, but you have torch 2.0.0 which is incompatible.\u001b[0m\u001b[31m\n",
            "\u001b[0mSuccessfully installed lit-18.1.8 nvidia-cublas-cu11-11.10.3.66 nvidia-cuda-cupti-cu11-11.7.101 nvidia-cuda-nvrtc-cu11-11.7.99 nvidia-cuda-runtime-cu11-11.7.99 nvidia-cudnn-cu11-8.5.0.96 nvidia-cufft-cu11-10.9.0.58 nvidia-curand-cu11-10.2.10.91 nvidia-cusolver-cu11-11.4.0.1 nvidia-cusparse-cu11-11.7.4.91 nvidia-nccl-cu11-2.14.3 nvidia-nvtx-cu11-11.7.91 torch-2.0.0 torchdata-0.6.0 torchtext-0.15.1 triton-2.0.0\n"
          ]
        }
      ],
      "source": [
        "# For the consistency of versions\n",
        "!pip install torch==2.0.0 torchtext\n",
        "\n",
        "import torch\n",
        "import torch.nn as nn\n",
        "import torch.optim as optim\n",
        "import random\n",
        "import torchtext\n",
        "from torchtext.data.utils import get_tokenizer\n",
        "from torchtext.vocab import build_vocab_from_iterator\n",
        "from torch.utils.data import DataLoader, Dataset"
      ]
    },
    {
      "cell_type": "markdown",
      "source": [
        "2. Define a basic RNN model"
      ],
      "metadata": {
        "id": "BQol3tnz5FD7"
      }
    },
    {
      "cell_type": "code",
      "source": [
        "\"\"\"\n",
        "class RNNCell(nn.Module):\n",
        "  def __init__(self, input_size, hidden_size):\n",
        "    super(RNNCell, self).__init__()\n",
        "    # Weight matrix for input-to-hidden transformation\n",
        "    # Transform the input x_t at timestep t into the hidden state space\n",
        "    self.Wxh = nn.Parameter(torch.randn(hidden_size, input_size) * 0.01)\n",
        "\n",
        "    # Weight matrix for hidden-to-hidden transformation\n",
        "    # Transform the previous hidden state h_(t-1)\n",
        "    # into the current hidden state space\n",
        "    self.Whh = nn.Parameter(torch.randn(hidden_size, hidden_size) * 0.01)\n",
        "\n",
        "    # Bias term for the hidden state\n",
        "    # Add a learnable bias to the hidden state\n",
        "    self.bh = nn.Parameter(torch.zeros(hidden_size))\n",
        "\n",
        "  # h_t = tanh(Wxh * x_t + Whh * h_(t-1) + bh)\n",
        "  def forward(self, x, h_prev):\n",
        "    h_next = torch.tanh(x @ self.Wxh.t() + h_prev @ self.Whh.t() + self.bh)\n",
        "    # h_next = self.dropout(h_next)\n",
        "    return h_next\n",
        "\"\"\""
      ],
      "metadata": {
        "id": "cYUWjEkW81Qc"
      },
      "execution_count": null,
      "outputs": []
    },
    {
      "cell_type": "code",
      "source": [
        "\"\"\"\n",
        "class BasicRNN(nn.Module):\n",
        "  def __init__(self, vocab_size, embed_size,\n",
        "               hidden_size, output_size, dropout = 0.5):\n",
        "    super(BasicRNN, self).__init__()\n",
        "    # Embedding layer\n",
        "    self.embedding = nn.Embedding(vocab_size, embed_size)\n",
        "    # RNN Cell\n",
        "    self.rnn_cell = RNNCell(embed_size, hidden_size)\n",
        "    # Fully connected layer\n",
        "    self.fc = nn.Linear(hidden_size, output_size)\n",
        "    # Dropout\n",
        "    self.dropout = nn.Dropout(dropout)\n",
        "\n",
        "  def forward(self, x):\n",
        "    batch_size, seq_len = x.size()\n",
        "\n",
        "    # Initialize hidden state\n",
        "    # .to(x.device) ensures tensors are on the same device\n",
        "    h = torch.zeros(batch_size, self.rnn_cell.Wxh.size(0)).to(x.device)\n",
        "\n",
        "    # Store all output predictions\n",
        "    outputs = []\n",
        "\n",
        "    # Process each timestep\n",
        "    for t in range(seq_len):\n",
        "      # Embed input at timestep t\n",
        "      x_t = self.embedding(x[:, t])\n",
        "      # Update hidden state\n",
        "      h = self.rnn_cell(x_t, h)\n",
        "      # Collect predictions for each timestep\n",
        "      outputs.append(self.fc(self.dropout(h)))\n",
        "\n",
        "    # Stack outputs along the sequence dimension\n",
        "    outputs = torch.stack(outputs, dim = 1)\n",
        "\n",
        "    # Return outputs for all timesteps\n",
        "    return outputs\n",
        "\"\"\""
      ],
      "metadata": {
        "id": "as90HnfoH7Eh"
      },
      "execution_count": null,
      "outputs": []
    },
    {
      "cell_type": "markdown",
      "source": [
        "3. Define a basic LSTM model"
      ],
      "metadata": {
        "id": "8UF1dhhuME8g"
      }
    },
    {
      "cell_type": "code",
      "source": [
        "\"\"\"\n",
        "class LSTMCell(nn.Module):\n",
        "  def __init__(self, input_size, hidden_size):\n",
        "    super(LSTMCell, self).__init__()\n",
        "\n",
        "    # Input Gate\n",
        "    # Weight matrix for input-to-input-gate transformation\n",
        "    self.Wxi = nn.Parameter(torch.randn(hidden_size, input_size) * 0.01)\n",
        "    # Weight matrix for the hidden-to-input-gate transformation\n",
        "    self.Whi = nn.Parameter(torch.randn(hidden_size, hidden_size) * 0.01)\n",
        "    # Bias term for the input gate\n",
        "    self.bi = nn.Parameter(torch.zeros(hidden_size))\n",
        "\n",
        "\n",
        "    # Forget Gate\n",
        "    # Weight matrix for input-to-forget-gate transformation\n",
        "    self.Wxf = nn.Parameter(torch.randn(hidden_size, input_size) * 0.01)\n",
        "    # Weight matrix for hidden-to-forget-gate transformation\n",
        "    self.Whf = nn.Parameter(torch.randn(hidden_size, hidden_size) * 0.01)\n",
        "    # Bias term for the forget gate\n",
        "    self.bf = nn.Parameter(torch.zeros(hidden_size))\n",
        "\n",
        "    # Cell Gate\n",
        "    # Weight matrix for input-to-cell-gate transformation\n",
        "    self.Wxc = nn.Parameter(torch.randn(hidden_size, input_size) * 0.01)\n",
        "    # Weight matrix for hidden-to-cell-gate transformation\n",
        "    self.Whc = nn.Parameter(torch.randn(hidden_size, hidden_size) * 0.01)\n",
        "    # Bias term for the cell gate\n",
        "    self.bc = nn.Parameter(torch.zeros(hidden_size))\n",
        "\n",
        "    # Output Gate\n",
        "    # Weight matrix for input-to-output-gate transformation\n",
        "    self.Wxo = nn.Parameter(torch.randn(hidden_size, input_size) * 0.01)\n",
        "    # Weight matrix for hidden-to-output-gate transformation\n",
        "    self.Who = nn.Parameter(torch.randn(hidden_size, hidden_size) * 0.01)\n",
        "    # Bias term for the output gate\n",
        "    self.bo = nn.Parameter(torch.zeros(hidden_size))\n",
        "\n",
        "  def forward(self, x, h_prev, c_prev):\n",
        "    # Input Gate\n",
        "    # i_t = σ(Wxi * x_t + Whi * h_(t-1) + bi)\n",
        "    # i_t represents the input gate activation at timestep t\n",
        "    i = torch.sigmoid(x @ self.Wxi.t() + h_prev @ self.Whi.t() + self.bi)\n",
        "\n",
        "    # Forget Gate\n",
        "    # f_t = σ(Wxf * x_t + Whf * h_(t-1) + bf)\n",
        "    # f_t represents the forget gate activation at timestep t\n",
        "    f = torch.sigmoid(x @ self.Wxf.t() + h_prev @ self.Whf.t() + self.bf)\n",
        "\n",
        "    # Cell Gate\n",
        "    # g_t = tanh(Wxc * x_t + Whc * h_(t-1) + bc)\n",
        "    # g_t represents the candidate cell state at timestep t\n",
        "    g = torch.tanh(x @ self.Wxc.t() + h_prev @ self.Whc.t() + self.bc)\n",
        "\n",
        "    # Output Gate\n",
        "    # o_t = σ(Wxo * x_t + Who * h_(t-1) + bo)\n",
        "    o = torch.sigmoid(x @ self.Wxo.t() + h_prev @ self.Who.t() + self.bo)\n",
        "\n",
        "    # Forward Pass:\n",
        "\n",
        "    # Update cell state\n",
        "    # c_t = f_t * c_(t-1) + i_t * g_t\n",
        "    c_next = f * c_prev + i * g\n",
        "\n",
        "    # Update hidden state\n",
        "    # h_t = o_t * tanh(c_t)\n",
        "    h_next = o * torch.tanh(c_next)\n",
        "\n",
        "    return h_next, c_next\n",
        "\"\"\""
      ],
      "metadata": {
        "id": "2Rl9tYHfMG7Q"
      },
      "execution_count": null,
      "outputs": []
    },
    {
      "cell_type": "markdown",
      "source": [
        "![image.png](data:image/png;base64,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)"
      ],
      "metadata": {
        "id": "dIPVgy6Gomne"
      }
    },
    {
      "cell_type": "markdown",
      "source": [
        "```\n",
        " /-- Wxi----->---- + bi = Input Gate (i_t)-----<----Whi----<---\\\n",
        " |                                                             |\n",
        " |      /--Wxf-- + bf = Forget Gate (f_t)-----<-----Whf--<--|  |\n",
        " |      |       c_t--<--c_(t-1) * f_t + i_t * g_t           |  |\n",
        "Input (x_t)      |                          Hidden state (h_(t-1))\n",
        " |      |       tanh(c_t) * o_t---->----h_t                 |  |\n",
        "        \\--Wxc-- + bc = Candidate Cell State (g_t)--Whc--<--|  |\n",
        " |                                                             |\n",
        " \\--Wxo------>---- + bo = Output Gate (o_t)----<----Who----<---/\n",
        "```"
      ],
      "metadata": {
        "id": "0HVqkGpupVaa"
      }
    },
    {
      "cell_type": "code",
      "source": [
        "\"\"\"\n",
        "class LSTMRNN(nn.Module):\n",
        "  def __init__(self, vocab_size, embed_size,\n",
        "               hidden_size, output_size, dropout = 0.5):\n",
        "    super(LSTMRNN, self).__init__()\n",
        "    # Embeding layer\n",
        "    self.embedding = nn.Embedding(vocab_size, embed_size)\n",
        "    # LSTM Cell\n",
        "    self.lstm_cell = LSTMCell(embed_size, hidden_size)\n",
        "    # Fully connected layer\n",
        "    self.fc = nn.Linear(hidden_size, output_size)\n",
        "    # Dropout\n",
        "    self.dropout = nn.Dropout(dropout)\n",
        "\n",
        "  def forward(self, x):\n",
        "    batch_size, seq_len = x.size()\n",
        "    # Initialize hidden state\n",
        "    h = torch.zeros(batch_size, self.lstm_cell.Wxi.size(0)).to(x.device)\n",
        "    # Initialize cell state\n",
        "    c = torch.zeros(batch_size, self.lstm_cell.Wxi.size(0)).to(x.device)\n",
        "\n",
        "    # Process each timestep\n",
        "    outputs = []\n",
        "\n",
        "    # Process each timestep\n",
        "    for t in range(seq_len):\n",
        "      # Embed input at timestep t\n",
        "      x_t = self.embedding(x[:, t])\n",
        "      # Update hidden and cell states\n",
        "      h, c = self.lstm_cell(x_t, h, c)\n",
        "      # Collect predictions for each timestep\n",
        "      outputs.append(self.fc(self.dropout(h)))\n",
        "\n",
        "    # Stack outputs along the sequence dimension\n",
        "    outputs = torch.stack(outputs, dim = 1)\n",
        "\n",
        "    return outputs\n",
        "\"\"\""
      ],
      "metadata": {
        "id": "Z92vUBc9onLz"
      },
      "execution_count": null,
      "outputs": []
    },
    {
      "cell_type": "markdown",
      "source": [
        "### This is the end of the manual model sketching practice.\n",
        "# ----------------------------------------------------------------------------------"
      ],
      "metadata": {
        "id": "8Gg6-KHP2QJ2"
      }
    },
    {
      "cell_type": "markdown",
      "source": [
        "### Basic RNN"
      ],
      "metadata": {
        "id": "vdWYER3z2qRg"
      }
    },
    {
      "cell_type": "code",
      "source": [
        "class BasicRNN(nn.Module):\n",
        "  def __init__(self, vocab_size, embedding_dim, hidden_dim,\n",
        "               output_dim, n_layers, dropout = 0.5):\n",
        "    \"\"\"\n",
        "    vocab_size: size of the vocabulary\n",
        "    embedding_dim: dimension of word embeddings\n",
        "    hidden_dim: dimension of the hidden state\n",
        "    output_dim: dimension of the output\n",
        "    n_layer: number of RNN layers\n",
        "    dropout: dropout probability\n",
        "    \"\"\"\n",
        "    super(BasicRNN, self).__init__()\n",
        "\n",
        "    # Embedding Layer\n",
        "    self.embedding = nn.Embedding(vocab_size, embedding_dim)\n",
        "\n",
        "    # Basic RNN Layer\n",
        "    self.rnn = nn.RNN(\n",
        "        input_size = embedding_dim,\n",
        "        hidden_size = hidden_dim,\n",
        "        num_layers = n_layers,\n",
        "        batch_first = True,\n",
        "        dropout = dropout if n_layers > 1 else 0\n",
        "    )\n",
        "\n",
        "    # Fully Connected Layer\n",
        "    self.fc = nn.Linear(hidden_dim, output_dim)\n",
        "\n",
        "    # Dropout\n",
        "    self.dropout = nn.Dropout(dropout)\n",
        "\n",
        "    self.hidden_dim = hidden_dim\n",
        "    self.n_layers = n_layers\n",
        "\n",
        "  def forward(self, text, hidden = None):\n",
        "    \"\"\"\n",
        "    Forward pass for Basic RNN\n",
        "\n",
        "    text (Tensor): Input tensor of shape (batch_size, seq_length)\n",
        "    hidden (Tensor): Initial hidden state\n",
        "\n",
        "    Return:\n",
        "    - Tensor: Output predictions\n",
        "    - Tensor: Updated hidden state\n",
        "    \"\"\"\n",
        "\n",
        "    # Embed input:\n",
        "    embedded = self.dropout(self.embedding(text))\n",
        "\n",
        "    # Initialize hidden state if not provided\n",
        "    if hidden is None:\n",
        "      batch_size = text.size(0)\n",
        "      hidden = torch.zeros(self.n_layers,\n",
        "                           batch_size,\n",
        "                           self.hidden_dim).to(text.device)\n",
        "\n",
        "    # RNN forward pass\n",
        "    output, hidden = self.rnn(embedded, hidden)\n",
        "\n",
        "    output = self.fc(self.dropout(output))\n",
        "\n",
        "    return output, hidden"
      ],
      "metadata": {
        "id": "CrHLfz7Q2kga"
      },
      "execution_count": null,
      "outputs": []
    },
    {
      "cell_type": "markdown",
      "source": [
        "### LSTM"
      ],
      "metadata": {
        "id": "I69bkhtO-XLP"
      }
    },
    {
      "cell_type": "code",
      "source": [
        "class LSTMRNN(nn.Module):\n",
        "  def __init__(self, vocab_size, embedding_dim, hidden_dim,\n",
        "               output_dim, n_layers, dropout = 0.5):\n",
        "    \"\"\"\n",
        "    LSTM CLassifier\n",
        "\n",
        "    vocab_size: size of the vocabulary\n",
        "    embedding_dim: dimension of word embeddings\n",
        "    hidden_dim: dimension of the hidden state\n",
        "    output_dim: dimension of the output\n",
        "    n_layers: number of LSTM layers\n",
        "    dropout: dropout probability\n",
        "    \"\"\"\n",
        "    super(LSTMRNN, self).__init__()\n",
        "\n",
        "    # Embedding Layer\n",
        "    self.embedding = nn.Embedding(vocab_size, embedding_dim)\n",
        "\n",
        "    # LSTM Layer\n",
        "    self.lstm = nn.LSTM(\n",
        "        input_size=embedding_dim,\n",
        "        hidden_size=hidden_dim,\n",
        "        num_layers=n_layers,\n",
        "        batch_first = True,\n",
        "        dropout=dropout if n_layers > 1 else 0\n",
        "    )\n",
        "\n",
        "    # Fully Connected Layer\n",
        "    self.fc = nn.Linear(hidden_dim, output_dim)\n",
        "\n",
        "    # Dropout\n",
        "    self.dropout = nn.Dropout(dropout)\n",
        "\n",
        "    self.hidden_dim = hidden_dim\n",
        "    self.n_layers = n_layers\n",
        "\n",
        "  def forward(self, text, hidden = None):\n",
        "    \"\"\"\n",
        "    Forward pass for LSTM\n",
        "\n",
        "    text: Input tensor\n",
        "    hidden: Initial hidden state (tuple, (h_0, c_0))\n",
        "\n",
        "    Return:\n",
        "    - Tensor: output prediction\n",
        "    - Tuple: updated hidden state (h_n, c_n)\n",
        "    \"\"\"\n",
        "\n",
        "    # embed input\n",
        "    embedded = self.dropout(self.embedding(text))\n",
        "\n",
        "    # Initialize hidden state if not provided\n",
        "    if hidden is None:\n",
        "      batch_size = text.size(0)\n",
        "      h_0 = torch.zeros(self.n_layers, batch_size,\n",
        "                        self.hidden_dim).to(text.device)\n",
        "      c_0 = torch.zeros(self.n_layers, batch_size,\n",
        "                        self.hidden_dim).to(text.device)\n",
        "      hidden = (h_0, c_0)\n",
        "\n",
        "    # LSTM forward pass\n",
        "    output, hidden = self.lstm(embedded, hidden)\n",
        "\n",
        "    output= self.fc(self.dropout(output))\n",
        "\n",
        "    return output, hidden"
      ],
      "metadata": {
        "id": "Cblv2AwD5LO5"
      },
      "execution_count": null,
      "outputs": []
    },
    {
      "cell_type": "markdown",
      "source": [
        "### 2. Dataset Preparation (10 Points)\n",
        "- Select a small text dataset to train your model. This could be a collection of poems, song lyrics, or any text you choose. Preprocess the data by tokenizing the text into sequences and converting them into a numerical format suitable for training your RNN."
      ],
      "metadata": {
        "id": "Gr2dNEIXxiq5"
      }
    },
    {
      "cell_type": "code",
      "source": [
        "# Sample dataset\n",
        "text_data = [\n",
        "    \"My dolls have been put away like dead children in a chest I will carry with me when I marry.\"\n",
        "    \"I reach under my skirt to feel a satin slip bought for this day.\"\n",
        "    \"It is soft as the inside of my thighs.\"\n",
        "    \"My hair has been nailed back with my mother’s black hairpins to my skull.\"\n",
        "    \"Her hands stretched my eyes open as she twisted braids into a tight circle at the nape of my neck.\"\n",
        "    \"I am to wash my own clothes and sheets from this day on, as if the fluids of my body were poison,\"\n",
        "    \"as if the little trickle of blood I believe travels from my heart to the world were shameful.\"\n",
        "    \"Is not the blood of saints and men in battle beautiful?\"\n",
        "    \"Do Christ’s hands not bleed into your eyes from His cross?\"\n",
        "    \"At night I hear myself growing and wake to find my hands drifting of their own will to soothe skin stretched tight over my bones,\"\n",
        "    \"I am wound like the guts of a clock, waiting for each hour to release me.\"\n",
        "]\n",
        "\n",
        "# Tokenize the text\n",
        "# Use a basic English tokenizer to split text into words\n",
        "tokenizer = get_tokenizer(\"basic_english\")\n",
        "\n",
        "# Function to yield tokens from the dataset\n",
        "def yield_tokens(data):\n",
        "  for text in data:\n",
        "    yield tokenizer(text)\n",
        "\n",
        "# Build vocabulary\n",
        "# Create a vocabulary from the tokenized text\n",
        "# specials=[\"<unk>\"] adds a special token for unknown words\n",
        "vocab = build_vocab_from_iterator(yield_tokens(text_data),\n",
        "                                  specials=[\"<unk>\"])\n",
        "vocab.set_default_index(vocab[\"<unk>\"])\n",
        "\n",
        "# Convert text to numerical sequences\n",
        "# Convert a text string into a list of numerical indices using the vocabulary\n",
        "def text_to_sequence(text):\n",
        "  return [vocab[token] for token in tokenizer(text)]"
      ],
      "metadata": {
        "id": "lkaDoVedx_UF"
      },
      "execution_count": null,
      "outputs": []
    },
    {
      "cell_type": "markdown",
      "source": [
        "We then prepare the dataset and create dataloader."
      ],
      "metadata": {
        "id": "pa1nawoGzy2b"
      }
    },
    {
      "cell_type": "code",
      "source": [
        "# Prepare dataset\n",
        "class TextDataset(Dataset):\n",
        "  def __init__(self, text_data, seq_length = 10):\n",
        "    \"\"\"\n",
        "    Initialize the dataset\n",
        "    text_data: list of text strings\n",
        "    seq_length: length of each input sequence\n",
        "    \"\"\"\n",
        "    # Store the sequences and targets\n",
        "    self.data = []\n",
        "    self.seq_length = seq_length\n",
        "\n",
        "    for text in text_data:\n",
        "      # Convert text to numerical sequence\n",
        "      tokens = text_to_sequence(text)\n",
        "      # Create input-target pairs for each sequence\n",
        "      for i in range(len(tokens) - seq_length):\n",
        "        \"\"\"\n",
        "        Input sequence: tokens[i : i + seq_length]\n",
        "        Target sequence: tokens[i + 1 : i + seq_length + 1]\n",
        "        Which is the next word's prediction\n",
        "        \"\"\"\n",
        "        self.data.append((tokens[i : i + seq_length],\n",
        "                          tokens[i + 1 : i + seq_length + 1]))\n",
        "  def __len__(self):\n",
        "    \"\"\"\n",
        "    Return the total number of sequences in the dataset\n",
        "    \"\"\"\n",
        "    return len(self.data)\n",
        "\n",
        "  def __getitem__(self, idx):\n",
        "    \"\"\"\n",
        "    Return the input sequence and target at te given index\n",
        "    idx: Index of the sequence\n",
        "    return: Tuple of (input_sequence, target_sequence)\n",
        "    \"\"\"\n",
        "    return torch.tensor(self.data[idx][0]), torch.tensor(self.data[idx][1])"
      ],
      "metadata": {
        "id": "HfmLxxYDzrqJ"
      },
      "execution_count": null,
      "outputs": []
    },
    {
      "cell_type": "code",
      "source": [
        "# Create dataset and dataloader\n",
        "# Length of each input sequence\n",
        "seq_length = 10\n",
        "# Create the dataset\n",
        "dataset = TextDataset(text_data, seq_length)\n",
        "# Create a DataLoader for batching and shuffling\n",
        "dataloader = DataLoader(dataset, batch_size = 2, shuffle= True)"
      ],
      "metadata": {
        "id": "x49qWd-hVngW"
      },
      "execution_count": null,
      "outputs": []
    },
    {
      "cell_type": "markdown",
      "source": [
        "For understanding, here is a sample to show the mechanism of the functions:\n",
        "- Input:\n",
        "  - `text_data = [\"I see a little man\"]`\n",
        "- Vocabulary:\n",
        "  - `{\"<unk>\": 0, \"I\": 1, \"see\": 2,\n",
        "  \"a\": 3, \"little\": 4, \"man\": 5}`\n",
        "- Input-Target Pairs:\n",
        "  - `Input: [1,2,3,4] -> Target: [2,3,4,5]`"
      ],
      "metadata": {
        "id": "7NUrzg_nksNl"
      }
    },
    {
      "cell_type": "markdown",
      "source": [
        "### 3. Training (10 Points)\n",
        "- Train your RNN model on the prepared dataset. Aim to optimize the model to predict the next word in a sequence based on the given context. Adjust hyperparameters such as learning rate, number of epochs, and hidden layer dimensions to improve performance."
      ],
      "metadata": {
        "id": "APiic19im3dR"
      }
    },
    {
      "cell_type": "code",
      "source": [
        "import numpy as np\n",
        "\n",
        "def train_and_evaluate(model, dataloader, epochs, lr, clip = 1.0):\n",
        "  device = torch.device('cuda' if torch.cuda.is_available() else 'cpu')\n",
        "  model = model.to(device)\n",
        "  criterion = nn.CrossEntropyLoss()\n",
        "  optimizer = optim.Adam(model.parameters(), lr = lr)\n",
        "\n",
        "  losses = []\n",
        "  perplexities = []\n",
        "\n",
        "  for epoch in range(epochs):\n",
        "    model.train()\n",
        "    total_loss = 0\n",
        "    total_correct = 0\n",
        "    total_predictions = 0\n",
        "\n",
        "    for batch_inputs, batch_targets in dataloader:\n",
        "      batch_inputs = batch_inputs.to(device)\n",
        "      batch_targets = batch_targets.to(device)\n",
        "\n",
        "      optimizer.zero_grad()\n",
        "      predictions, _ = model(batch_inputs)\n",
        "      predictions = predictions.view(-1, predictions.size(-1))\n",
        "      batch_targets = batch_targets.view(-1)\n",
        "\n",
        "      loss = criterion(predictions, batch_targets)\n",
        "      loss.backward()\n",
        "\n",
        "      nn.utils.clip_grad_norm_(model.parameters(), clip)\n",
        "      optimizer.step()\n",
        "\n",
        "      total_loss += loss.item()\n",
        "      _, predicted = torch.max(predictions, 1)\n",
        "      total_correct += (predicted == batch_targets).sum().item()\n",
        "      total_predictions += batch_targets.size(0)\n",
        "\n",
        "    avg_loss = total_loss / len(dataloader)\n",
        "    accuracy = total_correct / total_predictions\n",
        "    perplexity = np.exp(avg_loss)\n",
        "\n",
        "    losses.append(avg_loss)\n",
        "    perplexities.append(perplexity)\n",
        "\n",
        "    if (epoch + 1) % 10 == 0 or epoch == 0:\n",
        "      print(f\"Epoch: {epoch+1}/{epochs}, Loss: {avg_loss:.4f}, Acc: {accuracy:.4f}, Perplexity: {perplexity:.2f}\")\n",
        "    if avg_loss == min(losses):\n",
        "      torch.save(model.state_dict(), f'best_{model.__class__.__name__}.pt')\n",
        "\n",
        "  return losses, perplexities"
      ],
      "metadata": {
        "id": "dVMOBPMjD_x7"
      },
      "execution_count": null,
      "outputs": []
    },
    {
      "cell_type": "code",
      "source": [
        "seq_length = 10\n",
        "batch_size = 4\n",
        "epochs = 100\n",
        "clip = 1.0\n",
        "embedding_dim = 100\n",
        "hidden_dim = 128\n",
        "n_layers = 2\n",
        "dropout = 0.3\n",
        "lr = 0.001\n",
        "\n",
        "dataset = TextDataset(text_data, seq_length)\n",
        "dataloader = DataLoader(dataset, batch_size=batch_size, shuffle=True)"
      ],
      "metadata": {
        "id": "ami0wd7bF_NP"
      },
      "execution_count": null,
      "outputs": []
    },
    {
      "cell_type": "code",
      "source": [
        "rnn_model = BasicRNN(vocab_size=len(vocab), embedding_dim=embedding_dim,\n",
        "                     hidden_dim=hidden_dim, output_dim=len(vocab),\n",
        "                     n_layers=n_layers, dropout= dropout)\n",
        "print(f\"\\nTraining Basic RNN: \")\n",
        "rnn_loss, rnn_perplexities = train_and_evaluate(rnn_model, dataloader,\n",
        "                                                epochs, lr, clip)"
      ],
      "metadata": {
        "colab": {
          "base_uri": "https://localhost:8080/"
        },
        "id": "wxDe_zJ1IiJm",
        "outputId": "1b545245-8cb0-461e-ec43-3f7cd991a0f0"
      },
      "execution_count": null,
      "outputs": [
        {
          "output_type": "stream",
          "name": "stdout",
          "text": [
            "\n",
            "Training Basic RNN: \n"
          ]
        },
        {
          "output_type": "stream",
          "name": "stderr",
          "text": [
            "<ipython-input-37-504e8200b5ee>:30: UserWarning: torch.nn.utils.clip_grad_norm is now deprecated in favor of torch.nn.utils.clip_grad_norm_.\n",
            "  nn.utils.clip_grad_norm(model.parameters(), clip)\n"
          ]
        },
        {
          "output_type": "stream",
          "name": "stdout",
          "text": [
            "Epoch: 1/100, Loss: 4.2536, Acc: 0.1770, Perplexity: 70.36\n",
            "Epoch: 10/100, Loss: 0.2993, Acc: 0.9437, Perplexity: 1.35\n",
            "Epoch: 20/100, Loss: 0.1692, Acc: 0.9519, Perplexity: 1.18\n",
            "Epoch: 30/100, Loss: 0.1379, Acc: 0.9579, Perplexity: 1.15\n",
            "Epoch: 40/100, Loss: 0.1439, Acc: 0.9492, Perplexity: 1.15\n",
            "Epoch: 50/100, Loss: 0.1350, Acc: 0.9546, Perplexity: 1.14\n",
            "Epoch: 60/100, Loss: 0.1397, Acc: 0.9486, Perplexity: 1.15\n",
            "Epoch: 70/100, Loss: 0.1235, Acc: 0.9546, Perplexity: 1.13\n",
            "Epoch: 80/100, Loss: 0.1251, Acc: 0.9541, Perplexity: 1.13\n",
            "Epoch: 90/100, Loss: 0.1180, Acc: 0.9601, Perplexity: 1.13\n",
            "Epoch: 100/100, Loss: 0.1221, Acc: 0.9552, Perplexity: 1.13\n"
          ]
        }
      ]
    },
    {
      "cell_type": "code",
      "source": [
        "lstm_model = LSTMRNN(\n",
        "    vocab_size=len(vocab), embedding_dim=embedding_dim, hidden_dim=hidden_dim,\n",
        "    output_dim=len(vocab), n_layers=n_layers, dropout = dropout\n",
        ")\n",
        "print(f\"\\nTraining LSTM:\")\n",
        "lstm_loss, lstm_perplexities = train_and_evaluate(lstm_model, dataloader,\n",
        "                                                  epochs, lr, clip)"
      ],
      "metadata": {
        "colab": {
          "base_uri": "https://localhost:8080/"
        },
        "id": "yPO6UKvvKrVM",
        "outputId": "a21dc74b-cd35-4495-c93d-dce7cbae8ede"
      },
      "execution_count": null,
      "outputs": [
        {
          "output_type": "stream",
          "name": "stdout",
          "text": [
            "\n",
            "Training LSTM:\n"
          ]
        },
        {
          "output_type": "stream",
          "name": "stderr",
          "text": [
            "<ipython-input-37-504e8200b5ee>:30: UserWarning: torch.nn.utils.clip_grad_norm is now deprecated in favor of torch.nn.utils.clip_grad_norm_.\n",
            "  nn.utils.clip_grad_norm(model.parameters(), clip)\n"
          ]
        },
        {
          "output_type": "stream",
          "name": "stdout",
          "text": [
            "Epoch: 1/100, Loss: 4.6119, Acc: 0.0639, Perplexity: 100.68\n",
            "Epoch: 10/100, Loss: 0.7697, Acc: 0.8694, Perplexity: 2.16\n",
            "Epoch: 20/100, Loss: 0.2406, Acc: 0.9464, Perplexity: 1.27\n",
            "Epoch: 30/100, Loss: 0.1667, Acc: 0.9481, Perplexity: 1.18\n",
            "Epoch: 40/100, Loss: 0.1407, Acc: 0.9536, Perplexity: 1.15\n",
            "Epoch: 50/100, Loss: 0.1308, Acc: 0.9514, Perplexity: 1.14\n",
            "Epoch: 60/100, Loss: 0.1192, Acc: 0.9585, Perplexity: 1.13\n",
            "Epoch: 70/100, Loss: 0.1117, Acc: 0.9563, Perplexity: 1.12\n",
            "Epoch: 80/100, Loss: 0.1158, Acc: 0.9536, Perplexity: 1.12\n",
            "Epoch: 90/100, Loss: 0.1051, Acc: 0.9536, Perplexity: 1.11\n",
            "Epoch: 100/100, Loss: 0.1077, Acc: 0.9546, Perplexity: 1.11\n"
          ]
        }
      ]
    },
    {
      "cell_type": "markdown",
      "source": [
        "### Comparison:\n",
        "\n",
        "Since the accuracies cannot explicitly show the differences, **perplexity** may help out.\n",
        "\n",
        "We could see from the perplexity that **LSTM** slightly performs better."
      ],
      "metadata": {
        "id": "RzO0SQGaLLWP"
      }
    },
    {
      "cell_type": "markdown",
      "source": [
        "### 4. Text Generation (10 Points)\n",
        "- Once trained, use your model to generate text. Start with a seed sentence or word, then predict the next word using your model. Append the predicted word to your text and use the updated sequence as the new input to generate the next word. Repeat this process to generate a text of at least 100 words."
      ],
      "metadata": {
        "id": "estwZyvuhN6g"
      }
    },
    {
      "cell_type": "code",
      "source": [
        "# Function to generate text using the trained model\n",
        "def generate_text(model, seed_text, seq_length, vocab, num_words=100):\n",
        "    device = torch.device('cuda' if torch.cuda.is_available() else 'cpu')\n",
        "    model.eval()\n",
        "    model.to(device)\n",
        "\n",
        "    tokens = text_to_sequence(seed_text)\n",
        "    if len(tokens) < seq_length:\n",
        "      tokens = [vocab[\"<unk>\"]] * (seq_length - len(tokens)) + tokens\n",
        "    else:\n",
        "      tokens = tokens[-seq_length:]\n",
        "\n",
        "    generated_text = seed_text.split()\n",
        "\n",
        "    with torch.no_grad():\n",
        "      hidden = None\n",
        "      for _ in range(num_words):\n",
        "        input_seq = torch.tensor([tokens]).to(device)\n",
        "        output, hidden = model(input_seq, hidden)\n",
        "        logits = output[0, -1, :]\n",
        "        probs = torch.softmax(logits, dim = -1)\n",
        "        next_word_idx = torch.multinomial(probs, 1).item()\n",
        "        next_word = vocab.lookup_token(next_word_idx)\n",
        "\n",
        "        generated_text.append(next_word)\n",
        "        tokens = tokens[1:] + [next_word_idx]\n",
        "\n",
        "    return \" \".join(generated_text)"
      ],
      "metadata": {
        "id": "lnB1DOPKeS9k"
      },
      "execution_count": null,
      "outputs": []
    },
    {
      "cell_type": "code",
      "source": [
        "device = torch.device('cuda' if torch.cuda.is_available() else 'cpu')\n",
        "rnn_model.load_state_dict(torch.load('best_BasicRNN.pt'))\n",
        "lstm_model.load_state_dict(torch.load('best_LSTMRNN.pt'))\n",
        "\n",
        "seed_text = \"I am\""
      ],
      "metadata": {
        "id": "76vJB8ealCnb"
      },
      "execution_count": null,
      "outputs": []
    },
    {
      "cell_type": "code",
      "source": [
        "print(f\"\\nGenerating text with Basic RNN (Seed: '{seed_text}'):\")\n",
        "rnn_generated = generate_text(rnn_model, seed_text, seq_length,\n",
        "                              vocab, num_words=100)\n",
        "print(rnn_generated)"
      ],
      "metadata": {
        "colab": {
          "base_uri": "https://localhost:8080/"
        },
        "id": "EyMW8-eYNfXO",
        "outputId": "c9bdbd92-3753-46ed-b3dc-ad265f13483a"
      },
      "execution_count": null,
      "outputs": [
        {
          "output_type": "stream",
          "name": "stdout",
          "text": [
            "\n",
            "Generating text with Basic RNN (Seed: 'I am'):\n",
            "I am wound like the guts of a clock , waiting for each hour to release me . i reach under my skirt to feel a satin slip bought for this day . it is soft as the inside of my thighs . my hair has been nailed back with my mother’s black hairpins to my skull . her hands stretched my eyes open as she twisted braids into a tight circle at the nape of my neck . i am to wash my own clothes and sheets from this day on , as if the fluids of my body were poison\n"
          ]
        }
      ]
    },
    {
      "cell_type": "code",
      "source": [
        "print(f\"\\nGenerating text with LSTM (Seed: '{seed_text}'):\")\n",
        "lstm_generated = generate_text(lstm_model, seed_text, seq_length,\n",
        "                               vocab, num_words=100)\n",
        "print(lstm_generated)"
      ],
      "metadata": {
        "colab": {
          "base_uri": "https://localhost:8080/"
        },
        "id": "JRTaxDWilGI1",
        "outputId": "3c4615a6-1abf-477d-ab27-ab5ef879ed32"
      },
      "execution_count": null,
      "outputs": [
        {
          "output_type": "stream",
          "name": "stdout",
          "text": [
            "\n",
            "Generating text with LSTM (Seed: 'I am'):\n",
            "I am to wash my own clothes and sheets from this day on , as if the fluids of my body were poison , as if the little trickle of blood i believe travels from my heart to the world were shameful . is not the blood of saints and men in battle beautiful ? do christ’s hands not bleed into your eyes from his cross ? at night i hear myself growing and wake to find my hands drifting of their own will to soothe skin stretched tight over my bones , i am wound like the guts of a clock\n"
          ]
        }
      ]
    },
    {
      "cell_type": "markdown",
      "source": [
        "### 5. Analysis (10 Points)\n",
        "- Analyze the generated text. Discuss how well your model captures the style and coherence of the chosen dataset. Reflect on the performance of the basic RNN model versus the LSTM-enhanced version. Consider the effects of different hyperparameters on the quality of the generated text."
      ],
      "metadata": {
        "id": "XEE0Ec-FQAnR"
      }
    },
    {
      "cell_type": "markdown",
      "source": [
        "- RNN:\n",
        "  - Generating text with Basic RNN (Seed: 'I am'):\n",
        "  - I am wound like the guts of a clock , waiting for each hour to release me . i reach under my skirt to feel a satin slip bought for this day . it is soft as the inside of my thighs . my hair has been nailed back with my mother’s black hairpins to my skull . her hands stretched my eyes open as she twisted braids into a tight circle at the nape of my neck . i am to wash my own clothes and sheets from this day on , as if the fluids of my body were poison\n",
        "\n",
        "- LSTM:\n",
        "  - Generating text with LSTM (Seed: 'I am'):\n",
        "  - I am to wash my own clothes and sheets from this day on , as if the fluids of my body were poison , as if the little trickle of blood i believe travels from my heart to the world were shameful . is not the blood of saints and men in battle beautiful ? do christ’s hands not bleed into your eyes from his cross ? at night i hear myself growing and wake to find my hands drifting of their own will to soothe skin stretched tight over my bones , i am wound like the guts of a clock"
      ],
      "metadata": {
        "id": "Vfpl4JDdQWII"
      }
    },
    {
      "cell_type": "markdown",
      "source": [
        "Welp... since the source of the training text is kind of poetic and limited, differences from the generated text could not really tell that who performs better very explicitly. However, from the overall generated text, and from the index of the perplexity and accuracy, we are confident to say that **LSTM** performs better."
      ],
      "metadata": {
        "id": "PV-DZG-lLtBi"
      }
    },
    {
      "cell_type": "code",
      "source": [
        "import matplotlib.pyplot as plt\n",
        "\n",
        "# Plotting Losses\n",
        "plt.figure(figsize=(10, 6))\n",
        "plt.plot(range(1, epochs + 1), rnn_loss, label='Basic RNN Loss')\n",
        "plt.plot(range(1, epochs + 1), lstm_loss, label='LSTM RNN Loss')\n",
        "plt.xlabel('Epoch')\n",
        "plt.ylabel('Loss')\n",
        "plt.title('Training Loss Comparison')\n",
        "plt.legend()\n",
        "plt.grid(True)\n",
        "plt.show()\n",
        "\n",
        "# Plotting Perplexities\n",
        "plt.figure(figsize=(10, 6))\n",
        "plt.plot(range(1, epochs + 1), rnn_perplexities, label='Basic RNN Perplexity')\n",
        "plt.plot(range(1, epochs + 1), lstm_perplexities, label='LSTM Perplexity')\n",
        "plt.xlabel('Epoch')\n",
        "plt.ylabel('Perplexity')\n",
        "plt.title('Training Perplexity Comparison')\n",
        "plt.legend()\n",
        "plt.grid(True)\n",
        "plt.show()"
      ],
      "metadata": {
        "colab": {
          "base_uri": "https://localhost:8080/",
          "height": 855
        },
        "id": "Rar9YddpOUTN",
        "outputId": "25fec6ed-38b8-476a-c6cb-7270546bf526"
      },
      "execution_count": null,
      "outputs": [
        {
          "output_type": "display_data",
          "data": {
            "text/plain": [
              "<Figure size 1000x600 with 1 Axes>"
            ],
            "image/png": "[encoded data removed]"
          },
          "metadata": {}
        },
        {
          "output_type": "display_data",
          "data": {
            "text/plain": [
              "<Figure size 1000x600 with 1 Axes>"
            ],
            "image/png": "[encoded data removed]"
          },
          "metadata": {}
        }
      ]
    },
    {
      "cell_type": "markdown",
      "source": [
        "For the sake of making the comparison more obvious, we will try to switch to a larger, classic corpus for double check."
      ],
      "metadata": {
        "id": "2y6p7jDgR5zd"
      }
    },
    {
      "cell_type": "code",
      "source": [
        "import requests\n",
        "\n",
        "url = \"https://www.gutenberg.org/files/1661/1661-0.txt\"\n",
        "response = requests.get(url)\n",
        "text = response.text\n",
        "\n",
        "import re\n",
        "# Split on sentence-ending punctuation\n",
        "sentences = re.split(r'[.!?]+', text)\n",
        "text_data = [s.strip() for s in sentences if len(s.strip()) > 20][:2500]\n",
        "print(f\"Number of sentences in text_data: {len(text_data)}\")"
      ],
      "metadata": {
        "id": "trttONAbI3--",
        "colab": {
          "base_uri": "https://localhost:8080/"
        },
        "outputId": "15301385-99f0-4b8a-b3b9-939aee218163"
      },
      "execution_count": null,
      "outputs": [
        {
          "output_type": "stream",
          "name": "stdout",
          "text": [
            "Number of sentences in text_data: 2500\n"
          ]
        }
      ]
    },
    {
      "cell_type": "code",
      "source": [
        "tokenizer = get_tokenizer(\"basic_english\")\n",
        "\n",
        "def yield_tokens(data):\n",
        "    for text in data:\n",
        "        yield tokenizer(text)\n",
        "\n",
        "vocab = build_vocab_from_iterator(yield_tokens(text_data),\n",
        "                                  specials=[\"<unk>\"], min_freq = 2)\n",
        "vocab.set_default_index(vocab[\"<unk>\"])\n",
        "\n",
        "print(f\"Vocabulary size: {len(vocab)}\")\n",
        "\n",
        "def text_to_sequence(text):\n",
        "    return [vocab[token] for token in tokenizer(text)]"
      ],
      "metadata": {
        "colab": {
          "base_uri": "https://localhost:8080/"
        },
        "id": "8YzJ62nZTtlj",
        "outputId": "6b18d9ca-2dbd-4ab9-8e1d-76978658c184"
      },
      "execution_count": null,
      "outputs": [
        {
          "output_type": "stream",
          "name": "stdout",
          "text": [
            "Vocabulary size: 2510\n"
          ]
        }
      ]
    },
    {
      "cell_type": "code",
      "source": [
        "seq_length = 10\n",
        "batch_size = 32\n",
        "epochs = 100\n",
        "clip = 1.0\n",
        "embedding_dim = 128\n",
        "hidden_dim = 256\n",
        "n_layers = 2\n",
        "dropout = 0.3\n",
        "lr = 0.001\n",
        "\n",
        "dataset = TextDataset(text_data, seq_length)\n",
        "dataloader = DataLoader(dataset, batch_size=batch_size, shuffle=True)\n",
        "print(f\"Number of sequences in dataset: {len(dataset)}\")"
      ],
      "metadata": {
        "colab": {
          "base_uri": "https://localhost:8080/"
        },
        "id": "Q7qgqPn9SbXL",
        "outputId": "8e6b9ba3-37a5-423c-e4eb-e17c7e77f07c"
      },
      "execution_count": null,
      "outputs": [
        {
          "output_type": "stream",
          "name": "stdout",
          "text": [
            "Number of sequences in dataset: 22266\n"
          ]
        }
      ]
    },
    {
      "cell_type": "code",
      "source": [
        "rnn_model = BasicRNN(\n",
        "    vocab_size=len(vocab), embedding_dim=embedding_dim, hidden_dim=hidden_dim,\n",
        "    output_dim=len(vocab), n_layers=n_layers, dropout= dropout)\n",
        "print(f\"\\nTraining Basic RNN: \")\n",
        "rnn_loss, rnn_perplexities = train_and_evaluate(rnn_model, dataloader,\n",
        "                                                epochs, lr, clip)"
      ],
      "metadata": {
        "colab": {
          "base_uri": "https://localhost:8080/"
        },
        "id": "odcgVx7RTPWm",
        "outputId": "20f3b1a1-c203-41ec-b94a-b879efc79b3e"
      },
      "execution_count": null,
      "outputs": [
        {
          "output_type": "stream",
          "name": "stdout",
          "text": [
            "\n",
            "Training Basic RNN: \n",
            "Epoch: 1/100, Loss: 4.9361, Acc: 0.1607, Perplexity: 139.22\n",
            "Epoch: 10/100, Loss: 2.9530, Acc: 0.3285, Perplexity: 19.16\n",
            "Epoch: 20/100, Loss: 2.6244, Acc: 0.3863, Perplexity: 13.80\n",
            "Epoch: 30/100, Loss: 2.4850, Acc: 0.4124, Perplexity: 12.00\n",
            "Epoch: 40/100, Loss: 2.3964, Acc: 0.4314, Perplexity: 10.98\n",
            "Epoch: 50/100, Loss: 2.3270, Acc: 0.4465, Perplexity: 10.25\n",
            "Epoch: 60/100, Loss: 2.2793, Acc: 0.4563, Perplexity: 9.77\n",
            "Epoch: 70/100, Loss: 2.2472, Acc: 0.4629, Perplexity: 9.46\n",
            "Epoch: 80/100, Loss: 2.2237, Acc: 0.4676, Perplexity: 9.24\n",
            "Epoch: 90/100, Loss: 2.1938, Acc: 0.4736, Perplexity: 8.97\n",
            "Epoch: 100/100, Loss: 2.1793, Acc: 0.4779, Perplexity: 8.84\n"
          ]
        }
      ]
    },
    {
      "cell_type": "code",
      "source": [
        "lstm_model = LSTMRNN(\n",
        "    vocab_size=len(vocab), embedding_dim=embedding_dim, hidden_dim=hidden_dim,\n",
        "    output_dim=len(vocab), n_layers=n_layers, dropout = dropout\n",
        ")\n",
        "print(f\"\\nTraining LSTM:\")\n",
        "lstm_loss, lstm_perplexities = train_and_evaluate(lstm_model, dataloader,\n",
        "                                                  epochs, lr, clip)"
      ],
      "metadata": {
        "colab": {
          "base_uri": "https://localhost:8080/"
        },
        "id": "ch8QUkTaTQcf",
        "outputId": "1b4f48e9-e22d-423f-96cc-6c1688275820"
      },
      "execution_count": null,
      "outputs": [
        {
          "output_type": "stream",
          "name": "stdout",
          "text": [
            "\n",
            "Training LSTM:\n",
            "Epoch: 1/100, Loss: 5.2679, Acc: 0.1400, Perplexity: 194.01\n",
            "Epoch: 10/100, Loss: 2.7772, Acc: 0.3624, Perplexity: 16.07\n",
            "Epoch: 20/100, Loss: 2.1190, Acc: 0.4879, Perplexity: 8.32\n",
            "Epoch: 30/100, Loss: 1.8093, Acc: 0.5532, Perplexity: 6.11\n",
            "Epoch: 40/100, Loss: 1.6285, Acc: 0.5920, Perplexity: 5.10\n",
            "Epoch: 50/100, Loss: 1.5074, Acc: 0.6197, Perplexity: 4.51\n",
            "Epoch: 60/100, Loss: 1.4187, Acc: 0.6410, Perplexity: 4.13\n",
            "Epoch: 70/100, Loss: 1.3498, Acc: 0.6572, Perplexity: 3.86\n",
            "Epoch: 80/100, Loss: 1.3002, Acc: 0.6682, Perplexity: 3.67\n",
            "Epoch: 90/100, Loss: 1.2499, Acc: 0.6803, Perplexity: 3.49\n",
            "Epoch: 100/100, Loss: 1.2102, Acc: 0.6911, Perplexity: 3.35\n"
          ]
        }
      ]
    },
    {
      "cell_type": "code",
      "source": [
        "import matplotlib.pyplot as plt\n",
        "\n",
        "# Plotting Losses\n",
        "plt.figure(figsize=(10, 6))\n",
        "plt.plot(range(1, epochs + 1), rnn_loss, label='Basic RNN Loss')\n",
        "plt.plot(range(1, epochs + 1), lstm_loss, label='LSTM RNN Loss')\n",
        "plt.xlabel('Epoch')\n",
        "plt.ylabel('Loss')\n",
        "plt.title('Training Loss Comparison')\n",
        "plt.legend()\n",
        "plt.grid(True)\n",
        "plt.show()\n",
        "\n",
        "# Plotting Perplexities\n",
        "plt.figure(figsize=(10, 6))\n",
        "plt.plot(range(1, epochs + 1), rnn_perplexities, label='Basic RNN Perplexity')\n",
        "plt.plot(range(1, epochs + 1), lstm_perplexities, label='LSTM Perplexity')\n",
        "plt.xlabel('Epoch')\n",
        "plt.ylabel('Perplexity')\n",
        "plt.title('Training Perplexity Comparison')\n",
        "plt.legend()\n",
        "plt.grid(True)\n",
        "plt.show()"
      ],
      "metadata": {
        "colab": {
          "base_uri": "https://localhost:8080/",
          "height": 849
        },
        "id": "qQJeAqHITcm-",
        "outputId": "333f6d26-496e-44c9-e508-c5ffa0acb8b6"
      },
      "execution_count": null,
      "outputs": [
        {
          "output_type": "display_data",
          "data": {
            "text/plain": [
              "<Figure size 1000x600 with 1 Axes>"
            ],
            "image/png": "[encoded data removed]"
          },
          "metadata": {}
        },
        {
          "output_type": "display_data",
          "data": {
            "text/plain": [
              "<Figure size 1000x600 with 1 Axes>"
            ],
            "image/png": "[encoded data removed]"
          },
          "metadata": {}
        }
      ]
    },
    {
      "cell_type": "markdown",
      "source": [
        "Now the difference between two models is obvious."
      ],
      "metadata": {
        "id": "0xFYQJhheVsz"
      }
    },
    {
      "cell_type": "code",
      "source": [
        "device = torch.device('cuda' if torch.cuda.is_available() else 'cpu')\n",
        "rnn_model.load_state_dict(torch.load('best_BasicRNN.pt'))\n",
        "lstm_model.load_state_dict(torch.load('best_LSTMRNN.pt'))\n",
        "\n",
        "seed_text = \"I am\""
      ],
      "metadata": {
        "id": "sh46U8Z7eKp1"
      },
      "execution_count": null,
      "outputs": []
    },
    {
      "cell_type": "code",
      "source": [
        "print(f\"\\nGenerating text with Basic RNN (Seed: '{seed_text}'):\")\n",
        "rnn_generated = generate_text(rnn_model, seed_text, seq_length,\n",
        "                              vocab, num_words=100)\n",
        "print(rnn_generated)"
      ],
      "metadata": {
        "colab": {
          "base_uri": "https://localhost:8080/"
        },
        "id": "y85kWNjReYTY",
        "outputId": "07d6e5ce-b58d-4ef8-eb8a-cd81776d4260"
      },
      "execution_count": null,
      "outputs": [
        {
          "output_type": "stream",
          "name": "stdout",
          "text": [
            "\n",
            "Generating text with Basic RNN (Seed: 'I am'):\n",
            "I am to <unk> at the neck with a other opened women and into some <unk> , <unk> evil , which is a most useful material so simple as copying at the end of the time , but i could not be bought a <unk> <unk> and <unk> his immense <unk> with a great blue , as a rule , bald enough to call upon my work , and , both in the morning , and did not want i give my business came to me instead of the more than there are six of us the <unk> of the typewriter he\n"
          ]
        }
      ]
    },
    {
      "cell_type": "code",
      "source": [
        "print(f\"\\nGenerating text with LSTM (Seed: '{seed_text}'):\")\n",
        "lstm_generated = generate_text(lstm_model, seed_text, seq_length,\n",
        "                               vocab, num_words=100)\n",
        "print(lstm_generated)"
      ],
      "metadata": {
        "colab": {
          "base_uri": "https://localhost:8080/"
        },
        "id": "VuS-XrBgedKx",
        "outputId": "24a534db-e40d-45bc-8b62-6b66a2c3b2f1"
      },
      "execution_count": null,
      "outputs": [
        {
          "output_type": "stream",
          "name": "stdout",
          "text": [
            "\n",
            "Generating text with LSTM (Seed: 'I am'):\n",
            "I am a <unk> only not <unk> to think of the <unk> , who is an <unk> living on the ground floor , and i asked him if he could tell me what had become of the <unk> murder and the <unk> <unk> , he has been more nearly correct than the official <unk> of this new case , and why i <unk> young openshaw to have the vacancy after all but after thinking it over for a few minutes he said that it would be all right to have a family <unk> like this <unk> abroad , and his mind was\n"
          ]
        }
      ]
    },
    {
      "cell_type": "markdown",
      "source": [
        "And from the generated text, we can see that **LSTM** is outperforming too, which gives us a more explicit comparison and an expected outcome."
      ],
      "metadata": {
        "id": "-c6BXV4Re8gR"
      }
    },
    {
      "cell_type": "markdown",
      "source": [
        "# ----------------------------------------------------------------------------------\n",
        "\n",
        "### Seq2Seq Machine Translation with Attention\n",
        "\n",
        "\n",
        "#### Objectives\n",
        "Implement a sequence-to-sequence model with attention for machine translation between two languages (e.g., English to French). This task will help you understand conditioned generation in the context of sequence translation, leveraging the power of LSTMs and attention mechanisms."
      ],
      "metadata": {
        "id": "L-WwmCh2fi5y"
      }
    },
    {
      "cell_type": "markdown",
      "source": [
        "### 1. Model Architecture (10 Points)\n",
        "- Build a Seq2Seq model consisting of an encoder and a decoder, both utilizing LSTM layers to effectively capture temporal dependencies in the input and target sequences.\n",
        "- Incorporate an attention mechanism between the encoder and decoder to enhance the model's ability to focus on relevant parts of the input sequence during translation, as discussed in the **Attention Mechanisms** section of the lectures."
      ],
      "metadata": {
        "id": "LoS-lvxYf_4W"
      }
    },
    {
      "cell_type": "code",
      "source": [
        "class Encoder(nn.Module):\n",
        "  def __init__(self, input_dim, embedding_dim, hidden_dim, n_layers, dropout):\n",
        "    super(Encoder, self).__init__()\n",
        "    self.hidden_dim = hidden_dim\n",
        "    self.n_layers = n_layers\n",
        "\n",
        "    # Embedding layers to convert input tokens to dense vectors\n",
        "    self.embedding = nn.Embedding(input_dim, embedding_dim)\n",
        "    # LSTM layer for encoding the sequence\n",
        "    self.lstm = nn.LSTM(embedding_dim, hidden_dim, n_layers,\n",
        "                        batch_first = True,\n",
        "                        dropout = dropout if n_layers > 1 else 0)\n",
        "    self.dropout = nn.Dropout(dropout)\n",
        "\n",
        "  def forward(self, src):\n",
        "    embedded = self.dropout(self.embedding(src))\n",
        "    outputs, (hidden, cell) = self.lstm(embedded)\n",
        "\n",
        "    return outputs, hidden, cell"
      ],
      "metadata": {
        "id": "5agL7lkpehO9"
      },
      "execution_count": 2,
      "outputs": []
    },
    {
      "cell_type": "code",
      "source": [
        "class Attention(nn.Module):\n",
        "  def __init__(self, hidden_dim):\n",
        "    super(Attention, self).__init__()\n",
        "    self.attn = nn.Linear(hidden_dim * 2, hidden_dim)\n",
        "    self.v = nn.Parameter(torch.rand(hidden_dim))\n",
        "    stdv = 1. / np.sqrt(hidden_dim)\n",
        "    self.v.data.uniform_(-stdv, stdv)\n",
        "\n",
        "  def forward(self, hidden, encoder_outputs):\n",
        "    src_len = encoder_outputs.shape[1]\n",
        "    hidden = hidden.unsqueeze(1).repeat(1, src_len, 1)\n",
        "\n",
        "    score = torch.tanh(self.attn(torch.cat((hidden, encoder_outputs), dim = 2)))\n",
        "    attention = torch.sum(self.v * score, dim = 2)\n",
        "\n",
        "    return torch.softmax(attention, dim = 1)"
      ],
      "metadata": {
        "id": "k1qMFAc5j_wm"
      },
      "execution_count": 3,
      "outputs": []
    },
    {
      "cell_type": "code",
      "source": [
        "class Decoder(nn.Module):\n",
        "  def __init__(self, output_dim, embedding_dim, hidden_dim, n_layers, dropout):\n",
        "    super(Decoder, self).__init__()\n",
        "    self.output_dim = output_dim\n",
        "    self.hidden_dim = hidden_dim\n",
        "    self.n_layers = n_layers\n",
        "\n",
        "    self.embedding = nn.Embedding(output_dim, embedding_dim)\n",
        "    self.lstm = nn.LSTM(embedding_dim + hidden_dim, hidden_dim, n_layers,\n",
        "                        batch_first = True,\n",
        "                        dropout = dropout if n_layers > 1 else 0)\n",
        "    self.fc = nn.Linear(hidden_dim, output_dim)\n",
        "    self.dropout = nn.Dropout(dropout)\n",
        "    self.attention = Attention(hidden_dim)\n",
        "\n",
        "  def forward(self, target, hidden, cell, encoder_outputs):\n",
        "    embedded = self.dropout(self.embedding(target))\n",
        "\n",
        "    attn_weights = self.attention(hidden[-1], encoder_outputs)\n",
        "    attn_weights = attn_weights.unsqueeze(1)\n",
        "\n",
        "    context = torch.bmm(attn_weights, encoder_outputs)\n",
        "\n",
        "    lstm_input = torch.cat((embedded, context), dim = 2)\n",
        "\n",
        "    output, (hidden, cell) = self.lstm(lstm_input, (hidden, cell))\n",
        "\n",
        "    prediction = self.fc(output.squeeze(1))\n",
        "\n",
        "    return prediction, hidden, cell, attn_weights\n"
      ],
      "metadata": {
        "id": "oNfZjrSFjUxp"
      },
      "execution_count": 4,
      "outputs": []
    },
    {
      "cell_type": "code",
      "source": [
        "class Seq2Seq(nn.Module):\n",
        "  def __init__(self, encoder, decoder, device):\n",
        "    super(Seq2Seq, self).__init__()\n",
        "    self.encoder = encoder\n",
        "    self.decoder = decoder\n",
        "    self.device = device\n",
        "\n",
        "  def forward(self, src, trg, teacher_forcing_ratio = 0.5):\n",
        "    batch_size = src.shape[0]\n",
        "    trg_len = trg.shape[1]\n",
        "    trg_vocab_size = self.decoder.output_dim\n",
        "\n",
        "    outputs = torch.zeros(batch_size, trg_len, trg_vocab_size).to(self.device)\n",
        "\n",
        "    encoder_outputs, hidden, cell = self.encoder(src)\n",
        "\n",
        "    input = trg[:,0].unsqueeze(1)\n",
        "\n",
        "    for t in range(1, trg_len):\n",
        "      output, hidden, cell, _ = self.decoder(input, hidden, cell,\n",
        "                                             encoder_outputs)\n",
        "      outputs[:, t, :] = output\n",
        "\n",
        "      teacher_force = random.random() < teacher_forcing_ratio\n",
        "      top1 = output.argmax(1).unsqueeze(1)\n",
        "      input = trg[:, t].unsqueeze(1) if teacher_force else top1\n",
        "\n",
        "    return outputs"
      ],
      "metadata": {
        "id": "rjP-TYuHlQE0"
      },
      "execution_count": 5,
      "outputs": []
    },
    {
      "cell_type": "markdown",
      "source": [
        "### 2. Data Preparation and Preprocessing (10 Points)\n",
        "- Select a bilingual corpus as your dataset (e.g., a collection of English-French sentence pairs). Perform necessary preprocessing steps, including tokenization, converting text into sequences of integers, and padding sequences to ensure uniform length."
      ],
      "metadata": {
        "id": "Ny9wJapRns07"
      }
    },
    {
      "cell_type": "markdown",
      "source": [
        "For the selection of dataset, we obtain it from: `https://www.euromatrixplus.net/multi-un/`"
      ],
      "metadata": {
        "id": "f55C56lZCcF2"
      }
    },
    {
      "cell_type": "code",
      "source": [
        "import random\n",
        "import tarfile\n",
        "\n",
        "tgz_path = \"/content/drive/MyDrive/training-parallel-un.tgz\"\n",
        "\n",
        "with tarfile.open(tgz_path, 'r:gz') as tar:\n",
        "    fr_file = tar.extractfile('un/undoc.2000.fr-en.fr')\n",
        "    fr_lines = fr_file.read().decode('utf-8').split('\\n')\n",
        "\n",
        "    en_file = tar.extractfile('un/undoc.2000.fr-en.en')\n",
        "    en_lines = en_file.read().decode('utf-8').split('\\n')\n",
        "\n",
        "data = [(src, trg) for src, trg\n",
        "        in zip(fr_lines, en_lines) if src.strip() and trg.strip()][:1000]\n",
        "src_sentences, trg_sentences = zip(*data)\n",
        "print(f\"Number of sentence pairs: {len(src_sentences)}\")\n",
        "print(f\"Sample pair: {src_sentences[0]} -> {trg_sentences[0]}\")"
      ],
      "metadata": {
        "colab": {
          "base_uri": "https://localhost:8080/"
        },
        "id": "A6DJIyyQnlQq",
        "outputId": "5039bb83-676c-459b-efbd-b86cd9ddf2c3"
      },
      "execution_count": 6,
      "outputs": [
        {
          "output_type": "stream",
          "name": "stdout",
          "text": [
            "Number of sentence pairs: 1000\n",
            "Sample pair: Nations Unies -> United Nations\n"
          ]
        }
      ]
    },
    {
      "cell_type": "code",
      "source": [
        "train_data = data[:-10]\n",
        "test_data = data[-10:]\n",
        "train_src_sentences, train_trg_sentences = zip(*train_data)\n",
        "test_src_sentences, test_trg_sentences = zip(*test_data)"
      ],
      "metadata": {
        "id": "2whD706DlH7y"
      },
      "execution_count": 7,
      "outputs": []
    },
    {
      "cell_type": "code",
      "source": [
        "!python -m spacy download fr_core_news_sm\n",
        "\n",
        "src_tokenizer = get_tokenizer(\"spacy\", language=\"fr_core_news_sm\")\n",
        "trg_tokenizer = get_tokenizer(\"basic_english\")\n",
        "\n",
        "def yield_tokens(sentences, tokenizer):\n",
        "    for sent in sentences:\n",
        "        yield tokenizer(sent)\n",
        "\n",
        "src_vocab = build_vocab_from_iterator(yield_tokens(train_src_sentences,\n",
        "                                                   src_tokenizer),\n",
        "                                      specials=[\"<pad>\", \"<sos>\",\n",
        "                                                \"<eos>\", \"<unk>\"],\n",
        "                                      min_freq=2)\n",
        "trg_vocab = build_vocab_from_iterator(yield_tokens(train_trg_sentences,\n",
        "                                                   trg_tokenizer),\n",
        "                                      specials=[\"<pad>\", \"<sos>\",\n",
        "                                                \"<eos>\", \"<unk>\"],\n",
        "                                      min_freq=2)\n",
        "src_vocab.set_default_index(src_vocab[\"<unk>\"])\n",
        "trg_vocab.set_default_index(trg_vocab[\"<unk>\"])\n",
        "print(f\"Source (French) vocab size: {len(src_vocab)}\")\n",
        "print(f\"Target (English) vocab size: {len(trg_vocab)}\")\n",
        "\n",
        "def text_to_sequence(text, vocab, tokenizer, max_len):\n",
        "    tokens = tokenizer(text.lower())\n",
        "    seq = [vocab[\"<sos>\"]] + [vocab.get(token, vocab[\"<unk>\"]) for token\n",
        "                              in tokens][:max_len-2] + [vocab[\"<eos>\"]]\n",
        "    return seq + [vocab[\"<pad>\"]] * (max_len - len(seq)) if len(seq) < max_len else seq[:max_len]"
      ],
      "metadata": {
        "id": "POPKCBJ4ojfO",
        "colab": {
          "base_uri": "https://localhost:8080/"
        },
        "outputId": "8f653ca6-986c-4ed0-b9d1-a65e6098f4ea"
      },
      "execution_count": 8,
      "outputs": [
        {
          "output_type": "stream",
          "name": "stdout",
          "text": [
            "Collecting fr-core-news-sm==3.7.0\n",
            "  Downloading https://github.com/explosion/spacy-models/releases/download/fr_core_news_sm-3.7.0/fr_core_news_sm-3.7.0-py3-none-any.whl (16.3 MB)\n",
            "\u001b[2K     \u001b[90m━━━━━━━━━━━━━━━━━━━━━━━━━━━━━━━━━━━━━━━━\u001b[0m \u001b[32m16.3/16.3 MB\u001b[0m \u001b[31m40.3 MB/s\u001b[0m eta \u001b[36m0:00:00\u001b[0m\n",
            "\u001b[?25hRequirement already satisfied: spacy<3.8.0,>=3.7.0 in /usr/local/lib/python3.11/dist-packages (from fr-core-news-sm==3.7.0) (3.7.5)\n",
            "Requirement already satisfied: spacy-legacy<3.1.0,>=3.0.11 in /usr/local/lib/python3.11/dist-packages (from spacy<3.8.0,>=3.7.0->fr-core-news-sm==3.7.0) (3.0.12)\n",
            "Requirement already satisfied: spacy-loggers<2.0.0,>=1.0.0 in /usr/local/lib/python3.11/dist-packages (from spacy<3.8.0,>=3.7.0->fr-core-news-sm==3.7.0) (1.0.5)\n",
            "Requirement already satisfied: murmurhash<1.1.0,>=0.28.0 in /usr/local/lib/python3.11/dist-packages (from spacy<3.8.0,>=3.7.0->fr-core-news-sm==3.7.0) (1.0.12)\n",
            "Requirement already satisfied: cymem<2.1.0,>=2.0.2 in /usr/local/lib/python3.11/dist-packages (from spacy<3.8.0,>=3.7.0->fr-core-news-sm==3.7.0) (2.0.11)\n",
            "Requirement already satisfied: preshed<3.1.0,>=3.0.2 in /usr/local/lib/python3.11/dist-packages (from spacy<3.8.0,>=3.7.0->fr-core-news-sm==3.7.0) (3.0.9)\n",
            "Requirement already satisfied: thinc<8.3.0,>=8.2.2 in /usr/local/lib/python3.11/dist-packages (from spacy<3.8.0,>=3.7.0->fr-core-news-sm==3.7.0) (8.2.5)\n",
            "Requirement already satisfied: wasabi<1.2.0,>=0.9.1 in /usr/local/lib/python3.11/dist-packages (from spacy<3.8.0,>=3.7.0->fr-core-news-sm==3.7.0) (1.1.3)\n",
            "Requirement already satisfied: srsly<3.0.0,>=2.4.3 in /usr/local/lib/python3.11/dist-packages (from spacy<3.8.0,>=3.7.0->fr-core-news-sm==3.7.0) (2.5.1)\n",
            "Requirement already satisfied: catalogue<2.1.0,>=2.0.6 in /usr/local/lib/python3.11/dist-packages (from spacy<3.8.0,>=3.7.0->fr-core-news-sm==3.7.0) (2.0.10)\n",
            "Requirement already satisfied: weasel<0.5.0,>=0.1.0 in /usr/local/lib/python3.11/dist-packages (from spacy<3.8.0,>=3.7.0->fr-core-news-sm==3.7.0) (0.4.1)\n",
            "Requirement already satisfied: typer<1.0.0,>=0.3.0 in /usr/local/lib/python3.11/dist-packages (from spacy<3.8.0,>=3.7.0->fr-core-news-sm==3.7.0) (0.15.1)\n",
            "Requirement already satisfied: tqdm<5.0.0,>=4.38.0 in /usr/local/lib/python3.11/dist-packages (from spacy<3.8.0,>=3.7.0->fr-core-news-sm==3.7.0) (4.67.1)\n",
            "Requirement already satisfied: requests<3.0.0,>=2.13.0 in /usr/local/lib/python3.11/dist-packages (from spacy<3.8.0,>=3.7.0->fr-core-news-sm==3.7.0) (2.32.3)\n",
            "Requirement already satisfied: pydantic!=1.8,!=1.8.1,<3.0.0,>=1.7.4 in /usr/local/lib/python3.11/dist-packages (from spacy<3.8.0,>=3.7.0->fr-core-news-sm==3.7.0) (2.10.6)\n",
            "Requirement already satisfied: jinja2 in /usr/local/lib/python3.11/dist-packages (from spacy<3.8.0,>=3.7.0->fr-core-news-sm==3.7.0) (3.1.5)\n",
            "Requirement already satisfied: setuptools in /usr/local/lib/python3.11/dist-packages (from spacy<3.8.0,>=3.7.0->fr-core-news-sm==3.7.0) (75.1.0)\n",
            "Requirement already satisfied: packaging>=20.0 in /usr/local/lib/python3.11/dist-packages (from spacy<3.8.0,>=3.7.0->fr-core-news-sm==3.7.0) (24.2)\n",
            "Requirement already satisfied: langcodes<4.0.0,>=3.2.0 in /usr/local/lib/python3.11/dist-packages (from spacy<3.8.0,>=3.7.0->fr-core-news-sm==3.7.0) (3.5.0)\n",
            "Requirement already satisfied: numpy>=1.19.0 in /usr/local/lib/python3.11/dist-packages (from spacy<3.8.0,>=3.7.0->fr-core-news-sm==3.7.0) (1.26.4)\n",
            "Requirement already satisfied: language-data>=1.2 in /usr/local/lib/python3.11/dist-packages (from langcodes<4.0.0,>=3.2.0->spacy<3.8.0,>=3.7.0->fr-core-news-sm==3.7.0) (1.3.0)\n",
            "Requirement already satisfied: annotated-types>=0.6.0 in /usr/local/lib/python3.11/dist-packages (from pydantic!=1.8,!=1.8.1,<3.0.0,>=1.7.4->spacy<3.8.0,>=3.7.0->fr-core-news-sm==3.7.0) (0.7.0)\n",
            "Requirement already satisfied: pydantic-core==2.27.2 in /usr/local/lib/python3.11/dist-packages (from pydantic!=1.8,!=1.8.1,<3.0.0,>=1.7.4->spacy<3.8.0,>=3.7.0->fr-core-news-sm==3.7.0) (2.27.2)\n",
            "Requirement already satisfied: typing-extensions>=4.12.2 in /usr/local/lib/python3.11/dist-packages (from pydantic!=1.8,!=1.8.1,<3.0.0,>=1.7.4->spacy<3.8.0,>=3.7.0->fr-core-news-sm==3.7.0) (4.12.2)\n",
            "Requirement already satisfied: charset-normalizer<4,>=2 in /usr/local/lib/python3.11/dist-packages (from requests<3.0.0,>=2.13.0->spacy<3.8.0,>=3.7.0->fr-core-news-sm==3.7.0) (3.4.1)\n",
            "Requirement already satisfied: idna<4,>=2.5 in /usr/local/lib/python3.11/dist-packages (from requests<3.0.0,>=2.13.0->spacy<3.8.0,>=3.7.0->fr-core-news-sm==3.7.0) (3.10)\n",
            "Requirement already satisfied: urllib3<3,>=1.21.1 in /usr/local/lib/python3.11/dist-packages (from requests<3.0.0,>=2.13.0->spacy<3.8.0,>=3.7.0->fr-core-news-sm==3.7.0) (2.3.0)\n",
            "Requirement already satisfied: certifi>=2017.4.17 in /usr/local/lib/python3.11/dist-packages (from requests<3.0.0,>=2.13.0->spacy<3.8.0,>=3.7.0->fr-core-news-sm==3.7.0) (2025.1.31)\n",
            "Requirement already satisfied: blis<0.8.0,>=0.7.8 in /usr/local/lib/python3.11/dist-packages (from thinc<8.3.0,>=8.2.2->spacy<3.8.0,>=3.7.0->fr-core-news-sm==3.7.0) (0.7.11)\n",
            "Requirement already satisfied: confection<1.0.0,>=0.0.1 in /usr/local/lib/python3.11/dist-packages (from thinc<8.3.0,>=8.2.2->spacy<3.8.0,>=3.7.0->fr-core-news-sm==3.7.0) (0.1.5)\n",
            "Requirement already satisfied: click>=8.0.0 in /usr/local/lib/python3.11/dist-packages (from typer<1.0.0,>=0.3.0->spacy<3.8.0,>=3.7.0->fr-core-news-sm==3.7.0) (8.1.8)\n",
            "Requirement already satisfied: shellingham>=1.3.0 in /usr/local/lib/python3.11/dist-packages (from typer<1.0.0,>=0.3.0->spacy<3.8.0,>=3.7.0->fr-core-news-sm==3.7.0) (1.5.4)\n",
            "Requirement already satisfied: rich>=10.11.0 in /usr/local/lib/python3.11/dist-packages (from typer<1.0.0,>=0.3.0->spacy<3.8.0,>=3.7.0->fr-core-news-sm==3.7.0) (13.9.4)\n",
            "Requirement already satisfied: cloudpathlib<1.0.0,>=0.7.0 in /usr/local/lib/python3.11/dist-packages (from weasel<0.5.0,>=0.1.0->spacy<3.8.0,>=3.7.0->fr-core-news-sm==3.7.0) (0.20.0)\n",
            "Requirement already satisfied: smart-open<8.0.0,>=5.2.1 in /usr/local/lib/python3.11/dist-packages (from weasel<0.5.0,>=0.1.0->spacy<3.8.0,>=3.7.0->fr-core-news-sm==3.7.0) (7.1.0)\n",
            "Requirement already satisfied: MarkupSafe>=2.0 in /usr/local/lib/python3.11/dist-packages (from jinja2->spacy<3.8.0,>=3.7.0->fr-core-news-sm==3.7.0) (3.0.2)\n",
            "Requirement already satisfied: marisa-trie>=1.1.0 in /usr/local/lib/python3.11/dist-packages (from language-data>=1.2->langcodes<4.0.0,>=3.2.0->spacy<3.8.0,>=3.7.0->fr-core-news-sm==3.7.0) (1.2.1)\n",
            "Requirement already satisfied: markdown-it-py>=2.2.0 in /usr/local/lib/python3.11/dist-packages (from rich>=10.11.0->typer<1.0.0,>=0.3.0->spacy<3.8.0,>=3.7.0->fr-core-news-sm==3.7.0) (3.0.0)\n",
            "Requirement already satisfied: pygments<3.0.0,>=2.13.0 in /usr/local/lib/python3.11/dist-packages (from rich>=10.11.0->typer<1.0.0,>=0.3.0->spacy<3.8.0,>=3.7.0->fr-core-news-sm==3.7.0) (2.18.0)\n",
            "Requirement already satisfied: wrapt in /usr/local/lib/python3.11/dist-packages (from smart-open<8.0.0,>=5.2.1->weasel<0.5.0,>=0.1.0->spacy<3.8.0,>=3.7.0->fr-core-news-sm==3.7.0) (1.17.2)\n",
            "Requirement already satisfied: mdurl~=0.1 in /usr/local/lib/python3.11/dist-packages (from markdown-it-py>=2.2.0->rich>=10.11.0->typer<1.0.0,>=0.3.0->spacy<3.8.0,>=3.7.0->fr-core-news-sm==3.7.0) (0.1.2)\n",
            "Installing collected packages: fr-core-news-sm\n",
            "Successfully installed fr-core-news-sm-3.7.0\n",
            "\u001b[38;5;2m✔ Download and installation successful\u001b[0m\n",
            "You can now load the package via spacy.load('fr_core_news_sm')\n",
            "\u001b[38;5;3m⚠ Restart to reload dependencies\u001b[0m\n",
            "If you are in a Jupyter or Colab notebook, you may need to restart Python in\n",
            "order to load all the package's dependencies. You can do this by selecting the\n",
            "'Restart kernel' or 'Restart runtime' option.\n",
            "Source (French) vocab size: 2127\n",
            "Target (English) vocab size: 1892\n"
          ]
        }
      ]
    },
    {
      "cell_type": "code",
      "source": [
        "def text_to_sequence(text, vocab, tokenizer, max_len):\n",
        "    tokens = tokenizer(text.lower())\n",
        "    seq = [vocab[\"<sos>\"]] + [vocab[token] for token in tokens][:max_len-2] + [vocab[\"<eos>\"]]\n",
        "    return seq + [vocab[\"<pad>\"]] * (max_len - len(seq)) if len(seq) < max_len else seq[:max_len]"
      ],
      "metadata": {
        "id": "rWVnDvfgZoXd"
      },
      "execution_count": 9,
      "outputs": []
    },
    {
      "cell_type": "code",
      "source": [
        "class TranslationDataset(Dataset):\n",
        "    def __init__(self, src_sentences, trg_sentences,\n",
        "                 src_vocab, trg_vocab, max_len=20):\n",
        "        self.src_data = []\n",
        "        self.trg_data = []\n",
        "\n",
        "        for src, trg in zip(src_sentences, trg_sentences):\n",
        "            src_seq = text_to_sequence(src, src_vocab, src_tokenizer, max_len)\n",
        "            trg_seq = text_to_sequence(trg, trg_vocab, trg_tokenizer, max_len)\n",
        "            self.src_data.append(src_seq)\n",
        "            self.trg_data.append(trg_seq)\n",
        "\n",
        "    def __len__(self):\n",
        "        return len(self.src_data)\n",
        "\n",
        "    def __getitem__(self, idx):\n",
        "        return torch.tensor(self.src_data[idx]), torch.tensor(self.trg_data[idx])"
      ],
      "metadata": {
        "id": "Bw2aXACHbiH3"
      },
      "execution_count": 10,
      "outputs": []
    },
    {
      "cell_type": "code",
      "source": [
        "dataset = TranslationDataset(train_src_sentences, train_trg_sentences,\n",
        "                             src_vocab, trg_vocab)\n",
        "dataloader = DataLoader(dataset, batch_size=32, shuffle=True)\n",
        "print(f\"Number of sequences in dataset: {len(dataset)}\")"
      ],
      "metadata": {
        "colab": {
          "base_uri": "https://localhost:8080/"
        },
        "id": "G94Q62PIbrtb",
        "outputId": "fea4516b-09fb-465c-970d-7d743301bb25"
      },
      "execution_count": 14,
      "outputs": [
        {
          "output_type": "stream",
          "name": "stdout",
          "text": [
            "Number of sequences in dataset: 990\n"
          ]
        }
      ]
    },
    {
      "cell_type": "markdown",
      "source": [
        "### 3. Training (10 Points)\n",
        "- Train your Seq2Seq model on the preprocessed dataset, aiming to minimize the difference between the decoder's predicted translation and the actual target sentence. Experiment with different hyperparameters, such as the number of LSTM units, learning rate, and batch size, to optimize your model's performance."
      ],
      "metadata": {
        "id": "5J29XqD-ex3h"
      }
    },
    {
      "cell_type": "code",
      "source": [
        "def train(model, dataloader, epochs, lr, clip=1.0):\n",
        "    device = torch.device('cuda' if torch.cuda.is_available() else 'cpu')\n",
        "    model = model.to(device)\n",
        "    criterion = nn.CrossEntropyLoss(ignore_index=src_vocab[\"<pad>\"])\n",
        "    optimizer = optim.Adam(model.parameters(), lr=lr)\n",
        "\n",
        "    for epoch in range(epochs):\n",
        "        model.train()\n",
        "        total_loss = 0\n",
        "\n",
        "        for src, trg in dataloader:\n",
        "            src, trg = src.to(device), trg.to(device)\n",
        "\n",
        "            optimizer.zero_grad()\n",
        "            output = model(src, trg)\n",
        "\n",
        "            output = output[:, 1:, :].contiguous().view(-1, output.shape[-1])\n",
        "            trg = trg[:, 1:].contiguous().view(-1)\n",
        "            loss = criterion(output, trg)\n",
        "            loss.backward()\n",
        "            nn.utils.clip_grad_norm_(model.parameters(), clip)\n",
        "            optimizer.step()\n",
        "\n",
        "            total_loss += loss.item()\n",
        "\n",
        "        avg_loss = total_loss / len(dataloader)\n",
        "        print(f'Epoch {epoch+1}/{epochs}, Loss: {avg_loss:.4f}')"
      ],
      "metadata": {
        "id": "OT7q365cbv94"
      },
      "execution_count": 11,
      "outputs": []
    },
    {
      "cell_type": "code",
      "source": [
        "import numpy as np\n",
        "\n",
        "device = torch.device('cuda' if torch.cuda.is_available() else 'cpu')\n",
        "encoder = Encoder(len(src_vocab), 256, 512, 2, 0.5)\n",
        "decoder = Decoder(len(trg_vocab), 256, 512, 2, 0.5)\n",
        "model = Seq2Seq(encoder, decoder, device).to(device)"
      ],
      "metadata": {
        "id": "pf1u_2S3fMU1"
      },
      "execution_count": 12,
      "outputs": []
    },
    {
      "cell_type": "code",
      "source": [
        "train(model, dataloader, 20, 0.001)"
      ],
      "metadata": {
        "colab": {
          "base_uri": "https://localhost:8080/"
        },
        "id": "Oe1Le5WBfjqW",
        "outputId": "4a82b6d9-1b43-421b-cbc7-0718ee6bc3fe"
      },
      "execution_count": 15,
      "outputs": [
        {
          "output_type": "stream",
          "name": "stdout",
          "text": [
            "Epoch 1/20, Loss: 6.0222\n",
            "Epoch 2/20, Loss: 5.5075\n",
            "Epoch 3/20, Loss: 5.3973\n",
            "Epoch 4/20, Loss: 5.3448\n",
            "Epoch 5/20, Loss: 5.3015\n",
            "Epoch 6/20, Loss: 5.2641\n",
            "Epoch 7/20, Loss: 5.2208\n",
            "Epoch 8/20, Loss: 5.1823\n",
            "Epoch 9/20, Loss: 5.1439\n",
            "Epoch 10/20, Loss: 5.1070\n",
            "Epoch 11/20, Loss: 5.0709\n",
            "Epoch 12/20, Loss: 5.0254\n",
            "Epoch 13/20, Loss: 4.9828\n",
            "Epoch 14/20, Loss: 4.9365\n",
            "Epoch 15/20, Loss: 4.9064\n",
            "Epoch 16/20, Loss: 4.8811\n",
            "Epoch 17/20, Loss: 4.8173\n",
            "Epoch 18/20, Loss: 4.8063\n",
            "Epoch 19/20, Loss: 4.7446\n",
            "Epoch 20/20, Loss: 4.7121\n"
          ]
        }
      ]
    },
    {
      "cell_type": "markdown",
      "source": [
        "### 4. Translation and Evaluation (10 Points)\n",
        "- Use your trained model to translate a set of sentences from the source language to the target language. Evaluate translation quality using an appropriate metric, such as the BLEU (Bilingual Evaluation Understudy) score, to quantitatively assess how your translations compare to reference translations."
      ],
      "metadata": {
        "id": "zcu1Ci8pj1jH"
      }
    },
    {
      "cell_type": "code",
      "source": [
        "from nltk.translate.bleu_score import sentence_bleu, SmoothingFunction\n",
        "\n",
        "def translate_sentence(model, sentence, src_vocab, trg_vocab,\n",
        "                       src_tokenizer, max_len=20):\n",
        "    model.eval()\n",
        "    tokens = text_to_sequence(sentence, src_vocab, src_tokenizer, max_len)\n",
        "    src_tensor = torch.tensor(tokens).unsqueeze(0).to(device)\n",
        "\n",
        "    with torch.no_grad():\n",
        "        encoder_outputs, hidden, cell = model.encoder(src_tensor)\n",
        "        trg_input = torch.tensor([[trg_vocab[\"<sos>\"]]]).to(device)\n",
        "        outputs = []\n",
        "\n",
        "        for _ in range(max_len):\n",
        "            output, hidden, cell, _ = model.decoder(trg_input, hidden,\n",
        "                                                    cell, encoder_outputs)\n",
        "            pred_token = output.argmax(1).item()\n",
        "            if pred_token == trg_vocab[\"<eos>\"]:\n",
        "                break\n",
        "            outputs.append(pred_token)\n",
        "            trg_input = torch.tensor([[pred_token]]).to(device)\n",
        "\n",
        "        return \" \".join(trg_vocab.lookup_token(idx) for idx in outputs)"
      ],
      "metadata": {
        "id": "3n0k-Epjft02"
      },
      "execution_count": 16,
      "outputs": []
    },
    {
      "cell_type": "code",
      "source": [
        "# French test sentences\n",
        "test_sentences = test_src_sentences\n",
        "# English reference translations\n",
        "reference_translations = test_trg_sentences\n",
        "predicted_translations = []\n",
        "\n",
        "print(\"\\nTranslations and BLEU Scores:\")\n",
        "# Smoothing for short sentences\n",
        "smoothie = SmoothingFunction().method1\n",
        "for src, ref in zip(test_sentences, reference_translations):\n",
        "    pred = translate_sentence(model, src, src_vocab, trg_vocab, src_tokenizer)\n",
        "    predicted_translations.append(pred)\n",
        "\n",
        "    # Tokenize reference and prediction for BLEU\n",
        "    ref_tokens = trg_tokenizer(ref.lower())\n",
        "    pred_tokens = pred.split()\n",
        "\n",
        "    # Compute BLEU score\n",
        "    bleu_score = sentence_bleu([ref_tokens], pred_tokens,\n",
        "                               smoothing_function=smoothie)\n",
        "\n",
        "    print(f\"Source (French): {src}\")\n",
        "    print(f\"Reference (English): {ref}\")\n",
        "    print(f\"Predicted (English): {pred}\")\n",
        "    print(f\"BLEU Score: {bleu_score:.4f}\\n\")"
      ],
      "metadata": {
        "colab": {
          "base_uri": "https://localhost:8080/"
        },
        "id": "mpQnXyZ-kpc6",
        "outputId": "ed18a40c-fadd-4be5-8a03-3cfadea86512"
      },
      "execution_count": 17,
      "outputs": [
        {
          "output_type": "stream",
          "name": "stdout",
          "text": [
            "\n",
            "Translations and BLEU Scores:\n",
            "Source (French): Il faut élaborer les politiques et les mesures d'amélioration du transport intermodal en tenant compte des approches modales pour s'assurer qu'elles ciblent bien les entraves existantes et visent à la bonne qualité des liaisons.\n",
            "Reference (English): Intermodal transport policies and improvements need to be developed co-operatively with modal approaches to ensure that they are targeted at existing impediments and aimed at getting the linkages right.\n",
            "Predicted (English): the <unk> of the <unk> <unk> <unk> <unk> <unk> <unk> <unk> <unk> <unk> <unk> <unk> <unk> <unk> <unk>\n",
            "BLEU Score: 0.0055\n",
            "\n",
            "Source (French): La probabilité de succès d'une politique de transport intermodal dépend de la relation entre les unités chargées de la politique de transport intermodal (ou autres structures politiques), les organes consultatifs de l'industrie et les autres acteurs.\n",
            "Reference (English): The likelihood of intermodal transport policy being successful depends on the relationship between intermodal transport policy units (or other policy structures), industry advisory bodies and other stakeholders.\n",
            "Predicted (English): the <unk> of the <unk> <unk> <unk> <unk> <unk> <unk> <unk> <unk> <unk> <unk> <unk> <unk> <unk> <unk>\n",
            "BLEU Score: 0.0069\n",
            "\n",
            "Source (French): Résultats fondés sur la performance\n",
            "Reference (English): Performance-based outcomes\n",
            "Predicted (English): <unk> of the\n",
            "BLEU Score: 0.0000\n",
            "\n",
            "Source (French): Il est possible d'identifier d'éventuels indicateurs de référence mais il est extrêmement difficile de mesurer l'efficacité d'une politique et même encore plus difficile de comparer l'efficacité des politiques dans différents pays.\n",
            "Reference (English): Possible organisational benchmarks can be identified, but it is extremely difficult to measure the effectiveness of a policy and even more difficult to compare the effectiveness of policies in different countries.\n",
            "Predicted (English): the <unk> of <unk> <unk> <unk> <unk> <unk> <unk> <unk> <unk> <unk> <unk> <unk> <unk> <unk> <unk> <unk>\n",
            "BLEU Score: 0.0056\n",
            "\n",
            "Source (French): Les approches décrites constituent plutôt une \"boîte à outil\" pour les pays qui mettent en place des dispositions intermodales ou qui s'interrogent sur des structures organisationnelles pour le transport intermodal.\n",
            "Reference (English): Instead, the approaches outlined provide a “toolkit” for countries when setting up intermodal arrangements or considering organisational structures for intermodal transport.\n",
            "Predicted (English): the <unk> of <unk> <unk> <unk> <unk> <unk> <unk> <unk> <unk> <unk> <unk> <unk> <unk> <unk> <unk> <unk>\n",
            "BLEU Score: 0.0082\n",
            "\n",
            "Source (French): La véritable valeur des approches intermodales devrait être mesurée en termes de performance \"sur le terrain\" plutôt qu'en termes de facteurs comme les seuls arrangements institutionnels.\n",
            "Reference (English): The true value of intermodal approaches should be assessed in terms of performance “on the ground”, rather than in terms of factors such as institutional arrangements alone.\n",
            "Predicted (English): the <unk> of the <unk> of the <unk> <unk> <unk> <unk> <unk> <unk> <unk> <unk> <unk> <unk> <unk>\n",
            "BLEU Score: 0.0083\n",
            "\n",
            "Source (French): Les projets intermodaux devraient être évalués au cas par cas, en collaboration avec les organisations des secteurs public et privé concernées.\n",
            "Reference (English): Intermodal projects should be evaluated on a “case-by-case” basis, working with the private and public sector organisations involved.\n",
            "Predicted (English): the <unk> of the <unk> of the <unk> of the <unk> and <unk> , the <unk> <unk>\n",
            "BLEU Score: 0.0127\n",
            "\n",
            "Source (French): Une telle approche est similaire à celle adoptée sur de nombreux autres aspects du transport (comme la sécurité), où les macro-indicateurs risquent de ne pas renseigner de manière fiable sur l'efficacité de tel ou tel programme.\n",
            "Reference (English): Such an approach is similar to that adopted in many other aspects of transport (such as safety) where macro indicators may not provide a reliable guide to the effectiveness of individual programmes.\n",
            "Predicted (English): the <unk> of the <unk> of the <unk> of the <unk> , the <unk> , the <unk> <unk>\n",
            "BLEU Score: 0.0055\n",
            "\n",
            "Source (French): Identification et suppression des entraves\n",
            "Reference (English): Identification and removal of impediments\n",
            "Predicted (English): <unk> of\n",
            "BLEU Score: 0.0334\n",
            "\n",
            "Source (French): Des travaux complémentaires devraient être axés sur la mise au point d'indicateurs comparatifs de la performance intermodale des modes, des combinaisons et des interfaces modales et l'identification de variantes politiques permettant aux gouvernements de supprimer les entraves à l'efficacité intermodale.\n",
            "Reference (English): Further work should concentrate on developing benchmarks for monitoring intermodal performance of modes, modal combinations and modal interfaces and identifying policy options for governments to address impediments to intermodal efficiency.\n",
            "Predicted (English): the <unk> of <unk> <unk> <unk> <unk> <unk> <unk> <unk> <unk> <unk> <unk> <unk> <unk> <unk> <unk> <unk>\n",
            "BLEU Score: 0.0050\n",
            "\n"
          ]
        }
      ]
    },
    {
      "cell_type": "code",
      "source": [
        "average_bleu = np.mean([sentence_bleu([trg_tokenizer(ref.lower())], pred.split(), smoothing_function=smoothie)\n",
        "                        for ref, pred in zip(reference_translations, predicted_translations)])\n",
        "print(f\"Average BLEU Score across test set: {average_bleu:.4f}\")"
      ],
      "metadata": {
        "colab": {
          "base_uri": "https://localhost:8080/"
        },
        "id": "RrnkdAACl2Ca",
        "outputId": "1ac79bc2-bb7e-4089-a7e2-476808e7fc4f"
      },
      "execution_count": 18,
      "outputs": [
        {
          "output_type": "stream",
          "name": "stdout",
          "text": [
            "Average BLEU Score across test set: 0.0091\n"
          ]
        }
      ]
    },
    {
      "cell_type": "markdown",
      "source": [
        "Since we can see that our vanilla model doesn't perform that well, with a low BLEU Score and quite a few 'the' and '\\<unk\\>' thrown from the translation.\n",
        "\n",
        "we want to see whether adjusting hyperparameters, e.g. **dataset size, vocabulary, epochs, beam search,** etc. would help enhancing the performance."
      ],
      "metadata": {
        "id": "sNQ78nTlwun6"
      }
    },
    {
      "cell_type": "code",
      "source": [
        "# Increase from 1000 to 3000\n",
        "data = [(src, trg) for src, trg\n",
        "        in zip(fr_lines, en_lines) if src.strip() and trg.strip()][:3000]\n",
        "src_sentences, trg_sentences = zip(*data)\n",
        "\n",
        "train_data = data[:-10]\n",
        "test_data = data[-10:]\n",
        "train_src_sentences, train_trg_sentences = zip(*train_data)\n",
        "test_src_sentences, test_trg_sentences = zip(*test_data)\n",
        "\n",
        "# Lowered min_freq\n",
        "src_vocab = build_vocab_from_iterator(yield_tokens(train_src_sentences, src_tokenizer),\n",
        "                                      specials=[\"<pad>\", \"<sos>\", \"<eos>\", \"<unk>\"],\n",
        "                                      min_freq=1)\n",
        "trg_vocab = build_vocab_from_iterator(yield_tokens(train_trg_sentences, trg_tokenizer),\n",
        "                                      specials=[\"<pad>\", \"<sos>\", \"<eos>\", \"<unk>\"],\n",
        "                                      min_freq=1)\n",
        "src_vocab.set_default_index(src_vocab[\"<unk>\"])\n",
        "trg_vocab.set_default_index(trg_vocab[\"<unk>\"])\n",
        "\n",
        "dataset = TranslationDataset(train_src_sentences, train_trg_sentences, src_vocab, trg_vocab)\n",
        "dataloader = DataLoader(dataset, batch_size=32, shuffle=True)\n",
        "\n",
        "device = torch.device('cuda' if torch.cuda.is_available() else 'cpu')\n",
        "encoder = Encoder(len(src_vocab), 256, 512, 2, 0.5)\n",
        "decoder = Decoder(len(trg_vocab), 256, 512, 2, 0.5)\n",
        "model = Seq2Seq(encoder, decoder, device).to(device)\n",
        "\n",
        "# Increased epochs\n",
        "train(model, dataloader, 50, 0.001)"
      ],
      "metadata": {
        "colab": {
          "base_uri": "https://localhost:8080/"
        },
        "id": "WThRgo_1xjlw",
        "outputId": "2573d94d-f814-4f4d-ecdd-0117247f576c"
      },
      "execution_count": 20,
      "outputs": [
        {
          "output_type": "stream",
          "name": "stdout",
          "text": [
            "Epoch 1/50, Loss: 6.4410\n",
            "Epoch 2/50, Loss: 5.9605\n",
            "Epoch 3/50, Loss: 5.8645\n",
            "Epoch 4/50, Loss: 5.7808\n",
            "Epoch 5/50, Loss: 5.6878\n",
            "Epoch 6/50, Loss: 5.6065\n",
            "Epoch 7/50, Loss: 5.5134\n",
            "Epoch 8/50, Loss: 5.4254\n",
            "Epoch 9/50, Loss: 5.3177\n",
            "Epoch 10/50, Loss: 5.2153\n",
            "Epoch 11/50, Loss: 5.1091\n",
            "Epoch 12/50, Loss: 5.0207\n",
            "Epoch 13/50, Loss: 4.8965\n",
            "Epoch 14/50, Loss: 4.7934\n",
            "Epoch 15/50, Loss: 4.7084\n",
            "Epoch 16/50, Loss: 4.5913\n",
            "Epoch 17/50, Loss: 4.4951\n",
            "Epoch 18/50, Loss: 4.3804\n",
            "Epoch 19/50, Loss: 4.2695\n",
            "Epoch 20/50, Loss: 4.1703\n",
            "Epoch 21/50, Loss: 4.1051\n",
            "Epoch 22/50, Loss: 4.0194\n",
            "Epoch 23/50, Loss: 3.9241\n",
            "Epoch 24/50, Loss: 3.8184\n",
            "Epoch 25/50, Loss: 3.7687\n",
            "Epoch 26/50, Loss: 3.6524\n",
            "Epoch 27/50, Loss: 3.5899\n",
            "Epoch 28/50, Loss: 3.5058\n",
            "Epoch 29/50, Loss: 3.3957\n",
            "Epoch 30/50, Loss: 3.2870\n",
            "Epoch 31/50, Loss: 3.2604\n",
            "Epoch 32/50, Loss: 3.1630\n",
            "Epoch 33/50, Loss: 3.1429\n",
            "Epoch 34/50, Loss: 3.0253\n",
            "Epoch 35/50, Loss: 2.9916\n",
            "Epoch 36/50, Loss: 2.8806\n",
            "Epoch 37/50, Loss: 2.8009\n",
            "Epoch 38/50, Loss: 2.7416\n",
            "Epoch 39/50, Loss: 2.6631\n",
            "Epoch 40/50, Loss: 2.5914\n",
            "Epoch 41/50, Loss: 2.4984\n",
            "Epoch 42/50, Loss: 2.4355\n",
            "Epoch 43/50, Loss: 2.4034\n",
            "Epoch 44/50, Loss: 2.3294\n",
            "Epoch 45/50, Loss: 2.2899\n",
            "Epoch 46/50, Loss: 2.1547\n",
            "Epoch 47/50, Loss: 2.0971\n",
            "Epoch 48/50, Loss: 2.0325\n",
            "Epoch 49/50, Loss: 1.9906\n",
            "Epoch 50/50, Loss: 1.9326\n"
          ]
        }
      ]
    },
    {
      "cell_type": "code",
      "source": [
        "# Inference with Beam Search\n",
        "def translate_sentence(model, sentence, src_vocab, trg_vocab, src_tokenizer,\n",
        "                       max_len=20, beam_width=3):\n",
        "    model.eval()\n",
        "    tokens = text_to_sequence(sentence, src_vocab, src_tokenizer, max_len)\n",
        "    src_tensor = torch.tensor(tokens,\n",
        "                              dtype=torch.long).unsqueeze(0).to(device)\n",
        "\n",
        "    with torch.no_grad():\n",
        "        encoder_outputs, hidden, cell = model.encoder(src_tensor)\n",
        "        trg_input = torch.tensor([[trg_vocab[\"<sos>\"]]],\n",
        "                                 dtype=torch.long).to(device)\n",
        "\n",
        "        # Beam search initialization\n",
        "        # (score, sequence, hidden, cell)\n",
        "        beams = [(0.0, [trg_vocab[\"<sos>\"]], hidden, cell)]\n",
        "\n",
        "        for _ in range(max_len):\n",
        "            new_beams = []\n",
        "            for score, seq, h, c in beams:\n",
        "                if seq[-1] == trg_vocab[\"<eos>\"]:\n",
        "                    new_beams.append((score, seq, h, c))\n",
        "                    continue\n",
        "                trg_tensor = torch.tensor([[seq[-1]]],\n",
        "                                          dtype=torch.long).to(device)\n",
        "                output, h, c, _ = model.decoder(trg_tensor, h,\n",
        "                                                c, encoder_outputs)\n",
        "                probs = torch.softmax(output, dim=1).squeeze(0)\n",
        "                top_probs, top_indices = probs.topk(beam_width)\n",
        "\n",
        "                for prob, idx in zip(top_probs, top_indices):\n",
        "                    new_score = score + torch.log(prob).item()\n",
        "                    new_seq = seq + [idx.item()]\n",
        "                    new_beams.append((new_score, new_seq,\n",
        "                                      h.clone(), c.clone()))\n",
        "\n",
        "            beams = sorted(new_beams, key=lambda x: x[0],\n",
        "                           reverse=True)[:beam_width]\n",
        "            if all(b[1][-1] == trg_vocab[\"<eos>\"] for b in beams):\n",
        "                break\n",
        "\n",
        "        best_score, best_seq, _, _ = beams[0]\n",
        "        return \" \".join(trg_vocab.lookup_token(idx) for idx in best_seq[1:])"
      ],
      "metadata": {
        "id": "bh0A6kTGy06I"
      },
      "execution_count": 21,
      "outputs": []
    },
    {
      "cell_type": "code",
      "source": [
        "test_sentences = test_src_sentences\n",
        "reference_translations = test_trg_sentences\n",
        "predicted_translations = []\n",
        "\n",
        "print(\"\\nTranslations and BLEU Scores:\")\n",
        "smoothie = SmoothingFunction().method1\n",
        "for src, ref in zip(test_sentences, reference_translations):\n",
        "    pred = translate_sentence(model, src, src_vocab, trg_vocab, src_tokenizer)\n",
        "    predicted_translations.append(pred)\n",
        "\n",
        "    ref_tokens = trg_tokenizer(ref.lower())\n",
        "    pred_tokens = pred.split()\n",
        "\n",
        "    bleu_score = sentence_bleu([ref_tokens], pred_tokens, smoothing_function=smoothie)\n",
        "\n",
        "    print(f\"Source (French): {src}\")\n",
        "    print(f\"Reference (English): {ref}\")\n",
        "    print(f\"Predicted (English): {pred}\")\n",
        "    print(f\"BLEU Score: {bleu_score:.4f}\\n\")\n",
        "\n",
        "average_bleu = np.mean([sentence_bleu([trg_tokenizer(ref.lower())], pred.split(), smoothing_function=smoothie)\n",
        "                        for ref, pred in zip(reference_translations, predicted_translations)])\n",
        "print(f\"Average BLEU Score across test set: {average_bleu:.4f}\")"
      ],
      "metadata": {
        "colab": {
          "base_uri": "https://localhost:8080/"
        },
        "id": "4GmEps-AzZlq",
        "outputId": "e19e0e0e-377b-458a-cd99-62159fe6c485"
      },
      "execution_count": 22,
      "outputs": [
        {
          "output_type": "stream",
          "name": "stdout",
          "text": [
            "\n",
            "Translations and BLEU Scores:\n",
            "Source (French): Rapports du Corps commun d'inspection\n",
            "Reference (English): Reports of the Joint Inspection Unit\n",
            "Predicted (English): reports of the office of germany <eos>\n",
            "BLEU Score: 0.1635\n",
            "\n",
            "Source (French): Le Président du Corps commun d'inspection, M. Louis-Dominique Ouedraogo (Burkina Faso), présente le rapport du Corps commun d'inspection (A/55/34) et le programme du Corps pour 2000 et la liste préliminaire des questions pouvant faire l'objet de rapports en 2001 et au-delà (A/54/ 960).\n",
            "Reference (English): The Chairman of the Joint Inspection Unit, Mr. Louis-Dominique Ouedraogo (Burkina Faso), introduced the annual report of the Unit (A/55/34) and on the work programme of the Joint Inspection Unit for 2000 and the preliminary listing of potential reports for 2001 and beyond (A/54/960).\n",
            "Predicted (English): the briefing to group of 77 ambassadors of the united nations high commissioner for the ministry of the <eos>\n",
            "BLEU Score: 0.0057\n",
            "\n",
            "Source (French): Des déclarations sont faites par les représentants des pays suivants : France (au nom de l'Union européenne et également au nom de l'Estonie, de la Hongrie, de la Pologne, de la Roumanie, de Chypre et de Malte), Bangladesh, Burkina Faso, États-Unis et République arabe syrienne.\n",
            "Reference (English): Statements were made by the representatives of France (on behalf of the European Union and also on behalf of Estonia, Hungary, Poland, Romania, Cyprus and Malta), Bangladesh, Burkina Faso, the United States and the Syrian Arab Republic.\n",
            "Predicted (English): statements were made by the representatives of france , the united nations university for international development plan , <eos>\n",
            "BLEU Score: 0.1029\n",
            "\n",
            "Source (French): Le Président du Corps commun d'inspection répond aux questions posées.\n",
            "Reference (English): The Chairman of the Joint Inspection Unit replied to questions raised.\n",
            "Predicted (English): the chairman of a “learning organisation” of any programme . <eos>\n",
            "BLEU Score: 0.0915\n",
            "\n",
            "Source (French): La Commission termine ainsi le débat général sur cette question.\n",
            "Reference (English): The Committee thus concluded its general discussion of this question.\n",
            "Predicted (English): the committee resumed its consideration of this agenda item . <eos>\n",
            "BLEU Score: 0.0624\n",
            "\n",
            "Source (French): Le Président informe la Commission que des consultations officieuses sur cette question commenceront le jeudi 28 septembre, dans la matinée, sous la conduite de M. Hae-yun Park (République de Corée), Vice-Président de la Commission.\n",
            "Reference (English): The Chairman informed the Committee that informal consultations on this question would begin on Thursday, 28 September, in the morning, under the chairmanship of Mr. Hae-yun Park (Republic of Korea), Vice-Chairman of the Committee.\n",
            "Predicted (English): the chairman informed the preparatory committee , elected at the department of the united nations system for international <eos>\n",
            "BLEU Score: 0.0497\n",
            "\n",
            "Source (French): Barème des quotes-parts pour la répartition des dépenses de l'Organisation des Nations Unies\n",
            "Reference (English): Scale of assessments for the apportionment of the expenses of the United Nations\n",
            "Predicted (English): united nations institute for training and research for the administration/institute of the united nations <eos>\n",
            "BLEU Score: 0.1956\n",
            "\n",
            "Source (French): La Commission reprend l'examen de cette question.\n",
            "Reference (English): The Committee resumed its consideration of this agenda item.\n",
            "Predicted (English): the committee began its consideration of this agenda item . <eos>\n",
            "BLEU Score: 0.6316\n",
            "\n",
            "Source (French): Lettre datée du 17 juillet 2000, adressée au Président de la Cinquième Commission par le Président de l'Assemblée générale (A/C.5/55/2)\n",
            "Reference (English): Letter dated 17 July 2000 from the President of the General Assembly addressed to the Chairman of the Fifth Committee (A/C.5/55/2)\n",
            "Predicted (English): letter dated 4 december 2000 from the chairman of the security council working group on the brahimi report <eos>\n",
            "BLEU Score: 0.1490\n",
            "\n",
            "Source (French): Des déclarations sont faites par les représentants des pays suivants : Tadjikistan, Bulgarie, République arabe syrienne, Somalie, Philippines, Fédération de Russie, Bélarus, Comores, Ukraine, Jamahiriya arabe libyenne, Inde, Tunisie, Cuba et Kirghizistan.\n",
            "Reference (English): Statements were made by the representatives of Tajikistan, Bulgaria, the Syrian Arab Republic, Somalia, the Philippines, the Russian Federation, Belarus, Comoros, Ukraine, the Libyan Arab Jamahiriya, India, Tunisia, Cuba and Kyrgyzstan.\n",
            "Predicted (English): statements were made by the representatives of mongolia , colombia , colombia , japan , japan , ghana <eos>\n",
            "BLEU Score: 0.0946\n",
            "\n",
            "Average BLEU Score across test set: 0.1547\n"
          ]
        }
      ]
    },
    {
      "cell_type": "markdown",
      "source": [
        "Yet still, it is not ideal to be used as a translator. However, we could see a high improvement compared with the previous version.\n",
        "\n",
        "- *The speed of loss deduction is faster.*\n",
        "\n",
        "- *The translation effect is much better.*\n",
        "\n",
        "The credit should be given to the adjustments of these hyperparameters."
      ],
      "metadata": {
        "id": "9BciodQ06nWS"
      }
    },
    {
      "cell_type": "markdown",
      "source": [
        "### 5. Analysis (10 Points)\n",
        "- Discuss the impact of the attention mechanism on translation quality. Compare your model's performance with and without attention using both qualitative examples and quantitative metrics. Reflect on how different architectural choices and hyperparameters influenced the outcomes."
      ],
      "metadata": {
        "id": "311dCBC5nH8l"
      }
    },
    {
      "cell_type": "markdown",
      "source": [
        "We've seen the difference that's brought by **hyperparameters** above.\n",
        "\n",
        "Now let's see the difference caused by **attention**."
      ],
      "metadata": {
        "id": "XYUcqdL_7MvY"
      }
    },
    {
      "cell_type": "code",
      "source": [
        "class DecoderNoAttention(nn.Module):\n",
        "    def __init__(self, output_dim, embedding_dim,\n",
        "                 hidden_dim, n_layers, dropout):\n",
        "        super(DecoderNoAttention, self).__init__()\n",
        "        self.output_dim = output_dim\n",
        "        self.hidden_dim = hidden_dim\n",
        "        self.n_layers = n_layers\n",
        "        self.embedding = nn.Embedding(output_dim, embedding_dim)\n",
        "        self.lstm = nn.LSTM(embedding_dim, hidden_dim, n_layers,\n",
        "                            batch_first=True,\n",
        "                            dropout=dropout if n_layers > 1 else 0)\n",
        "        self.fc = nn.Linear(hidden_dim, output_dim)\n",
        "        self.dropout = nn.Dropout(dropout)\n",
        "\n",
        "    def forward(self, target, hidden, cell, encoder_outputs=None):\n",
        "        embedded = self.dropout(self.embedding(target))\n",
        "        output, (hidden, cell) = self.lstm(embedded, (hidden, cell))\n",
        "        prediction = self.fc(output.squeeze(1))\n",
        "        return prediction, hidden, cell, None"
      ],
      "metadata": {
        "id": "gUTAUY5ZmwLD"
      },
      "execution_count": 24,
      "outputs": []
    },
    {
      "cell_type": "code",
      "source": [
        "encoder_no_attn = Encoder(len(src_vocab), 256, 512, 2, 0.5)\n",
        "decoder_no_attn = DecoderNoAttention(len(trg_vocab), 256, 512, 2, 0.5)\n",
        "model_no_attn = Seq2Seq(encoder_no_attn, decoder_no_attn, device).to(device)\n",
        "print(\"\\nTraining Model without Attention:\")\n",
        "train(model_no_attn, dataloader, 20, 0.001)"
      ],
      "metadata": {
        "colab": {
          "base_uri": "https://localhost:8080/"
        },
        "id": "ZHEiIOO87uZy",
        "outputId": "13033157-1408-4bfb-db60-c3c7838b7f45"
      },
      "execution_count": 25,
      "outputs": [
        {
          "output_type": "stream",
          "name": "stdout",
          "text": [
            "\n",
            "Training Model without Attention:\n",
            "Epoch 1/20, Loss: 6.4630\n",
            "Epoch 2/20, Loss: 5.9410\n",
            "Epoch 3/20, Loss: 5.8189\n",
            "Epoch 4/20, Loss: 5.7175\n",
            "Epoch 5/20, Loss: 5.6281\n",
            "Epoch 6/20, Loss: 5.5266\n",
            "Epoch 7/20, Loss: 5.4367\n",
            "Epoch 8/20, Loss: 5.3557\n",
            "Epoch 9/20, Loss: 5.2873\n",
            "Epoch 10/20, Loss: 5.1864\n",
            "Epoch 11/20, Loss: 5.1273\n",
            "Epoch 12/20, Loss: 5.0113\n",
            "Epoch 13/20, Loss: 4.9327\n",
            "Epoch 14/20, Loss: 4.8345\n",
            "Epoch 15/20, Loss: 4.7505\n",
            "Epoch 16/20, Loss: 4.6195\n",
            "Epoch 17/20, Loss: 4.5690\n",
            "Epoch 18/20, Loss: 4.4798\n",
            "Epoch 19/20, Loss: 4.4118\n",
            "Epoch 20/20, Loss: 4.3285\n"
          ]
        }
      ]
    },
    {
      "cell_type": "code",
      "source": [
        "encoder_attn = Encoder(len(src_vocab), 256, 512, 2, 0.5)\n",
        "decoder_attn = Decoder(len(trg_vocab), 256, 512, 2, 0.5)\n",
        "model_attn = Seq2Seq(encoder_attn, decoder_attn, device).to(device)\n",
        "print(\"\\nTraining Model with Attention:\")\n",
        "train(model_attn, dataloader, 20, 0.001)"
      ],
      "metadata": {
        "colab": {
          "base_uri": "https://localhost:8080/"
        },
        "id": "fb-P6eNy8NZn",
        "outputId": "f47172eb-39fe-4c5a-8280-2738c74f9a68"
      },
      "execution_count": 26,
      "outputs": [
        {
          "output_type": "stream",
          "name": "stdout",
          "text": [
            "\n",
            "Training Model with Attention:\n",
            "Epoch 1/20, Loss: 6.4456\n",
            "Epoch 2/20, Loss: 5.9562\n",
            "Epoch 3/20, Loss: 5.8576\n",
            "Epoch 4/20, Loss: 5.7720\n",
            "Epoch 5/20, Loss: 5.6822\n",
            "Epoch 6/20, Loss: 5.5853\n",
            "Epoch 7/20, Loss: 5.4857\n",
            "Epoch 8/20, Loss: 5.4028\n",
            "Epoch 9/20, Loss: 5.2964\n",
            "Epoch 10/20, Loss: 5.2060\n",
            "Epoch 11/20, Loss: 5.1052\n",
            "Epoch 12/20, Loss: 4.9744\n",
            "Epoch 13/20, Loss: 4.8647\n",
            "Epoch 14/20, Loss: 4.7678\n",
            "Epoch 15/20, Loss: 4.6467\n",
            "Epoch 16/20, Loss: 4.5534\n",
            "Epoch 17/20, Loss: 4.4372\n",
            "Epoch 18/20, Loss: 4.3474\n",
            "Epoch 19/20, Loss: 4.2686\n",
            "Epoch 20/20, Loss: 4.1404\n"
          ]
        }
      ]
    },
    {
      "cell_type": "markdown",
      "source": [
        "Accidently forgot to let the training function return the loss values iteratively. Manual input is used for visualization based on the outputs above."
      ],
      "metadata": {
        "id": "Vp1sF-IjmwkD"
      }
    },
    {
      "cell_type": "code",
      "source": [
        "import matplotlib.pyplot as plt\n",
        "\n",
        "# Loss values from your output\n",
        "losses_attn = [\n",
        "    6.4456, 5.9562, 5.8576, 5.7720, 5.6822, 5.5853, 5.4857, 5.4028, 5.2964, 5.2060,\n",
        "    5.1052, 4.9744, 4.8647, 4.7678, 4.6467, 4.5534, 4.4372, 4.3474, 4.2686, 4.1404\n",
        "]\n",
        "losses_no_attn = [\n",
        "    6.4630, 5.9410, 5.8189, 5.7175, 5.6281, 5.5266, 5.4367, 5.3557, 5.2873, 5.1864,\n",
        "    5.1273, 5.0113, 4.9327, 4.8345, 4.7505, 4.6195, 4.5690, 4.4798, 4.4118, 4.3285\n",
        "]\n",
        "\n",
        "# Plot\n",
        "plt.figure(figsize=(10, 6))\n",
        "plt.plot(range(1, 21), losses_attn, label='With Attention', color='blue')\n",
        "plt.plot(range(1, 21), losses_no_attn, label='Without Attention', color='orange')\n",
        "plt.xlabel('Epoch')\n",
        "plt.ylabel('Average Loss')\n",
        "plt.title('Training Loss Comparison: With vs Without Attention')\n",
        "plt.legend()\n",
        "plt.grid(True)\n",
        "plt.show()"
      ],
      "metadata": {
        "colab": {
          "base_uri": "https://localhost:8080/",
          "height": 434
        },
        "id": "V5RXkl0rmvlc",
        "outputId": "9a4929e5-50c3-4ac3-b8c6-225de112415c"
      },
      "execution_count": 30,
      "outputs": [
        {
          "output_type": "display_data",
          "data": {
            "text/plain": [
              "<Figure size 1000x600 with 1 Axes>"
            ],
            "image/png": "[encoded data removed]"
          },
          "metadata": {}
        }
      ]
    },
    {
      "cell_type": "code",
      "source": [
        "print(\"\\nTranslations without Attention:\")\n",
        "translations_no_attn = []\n",
        "for src, ref in zip(test_sentences, reference_translations):\n",
        "    pred = translate_sentence(model_no_attn, src, src_vocab, trg_vocab, src_tokenizer)\n",
        "    translations_no_attn.append(pred)\n",
        "    ref_tokens = trg_tokenizer(ref.lower())\n",
        "    pred_tokens = pred.split()\n",
        "    bleu_score = sentence_bleu([ref_tokens], pred_tokens, smoothing_function=smoothie)\n",
        "    print(f\"Source (French): {src}\")\n",
        "    print(f\"Reference (English): {ref}\")\n",
        "    print(f\"Predicted (English): {pred}\")\n",
        "    print(f\"BLEU Score: {bleu_score:.4f}\\n\")"
      ],
      "metadata": {
        "colab": {
          "base_uri": "https://localhost:8080/"
        },
        "id": "CJ3CnUxWkkXE",
        "outputId": "37fd9410-618f-4591-a59a-37f7fc08bcd6"
      },
      "execution_count": 27,
      "outputs": [
        {
          "output_type": "stream",
          "name": "stdout",
          "text": [
            "\n",
            "Translations without Attention:\n",
            "Source (French): Rapports du Corps commun d'inspection\n",
            "Reference (English): Reports of the Joint Inspection Unit\n",
            "Predicted (English): the of of the <eos>\n",
            "BLEU Score: 0.0930\n",
            "\n",
            "Source (French): Le Président du Corps commun d'inspection, M. Louis-Dominique Ouedraogo (Burkina Faso), présente le rapport du Corps commun d'inspection (A/55/34) et le programme du Corps pour 2000 et la liste préliminaire des questions pouvant faire l'objet de rapports en 2001 et au-delà (A/54/ 960).\n",
            "Reference (English): The Chairman of the Joint Inspection Unit, Mr. Louis-Dominique Ouedraogo (Burkina Faso), introduced the annual report of the Unit (A/55/34) and on the work programme of the Joint Inspection Unit for 2000 and the preliminary listing of potential reports for 2001 and beyond (A/54/960).\n",
            "Predicted (English): the committee decided , by acclamation , the general assembly , the general assembly appoint mr . <eos>\n",
            "BLEU Score: 0.0042\n",
            "\n",
            "Source (French): Des déclarations sont faites par les représentants des pays suivants : France (au nom de l'Union européenne et également au nom de l'Estonie, de la Hongrie, de la Pologne, de la Roumanie, de Chypre et de Malte), Bangladesh, Burkina Faso, États-Unis et République arabe syrienne.\n",
            "Reference (English): Statements were made by the representatives of France (on behalf of the European Union and also on behalf of Estonia, Hungary, Poland, Romania, Cyprus and Malta), Bangladesh, Burkina Faso, the United States and the Syrian Arab Republic.\n",
            "Predicted (English): statements were made by the secretary-general of the united nations commission on the united nations university , , <eos>\n",
            "BLEU Score: 0.0598\n",
            "\n",
            "Source (French): Le Président du Corps commun d'inspection répond aux questions posées.\n",
            "Reference (English): The Chairman of the Joint Inspection Unit replied to questions raised.\n",
            "Predicted (English): the chairman of a statement on the item . <eos>\n",
            "BLEU Score: 0.0972\n",
            "\n",
            "Source (French): La Commission termine ainsi le débat général sur cette question.\n",
            "Reference (English): The Committee thus concluded its general discussion of this question.\n",
            "Predicted (English): the chairman of the consideration of the agenda item . <eos>\n",
            "BLEU Score: 0.0248\n",
            "\n",
            "Source (French): Le Président informe la Commission que des consultations officieuses sur cette question commenceront le jeudi 28 septembre, dans la matinée, sous la conduite de M. Hae-yun Park (République de Corée), Vice-Président de la Commission.\n",
            "Reference (English): The Chairman informed the Committee that informal consultations on this question would begin on Thursday, 28 September, in the morning, under the chairmanship of Mr. Hae-yun Park (Republic of Korea), Vice-Chairman of the Committee.\n",
            "Predicted (English): the committee decided , the general assembly on the general assembly on the general assembly , the the <eos>\n",
            "BLEU Score: 0.0096\n",
            "\n",
            "Source (French): Barème des quotes-parts pour la répartition des dépenses de l'Organisation des Nations Unies\n",
            "Reference (English): Scale of assessments for the apportionment of the expenses of the United Nations\n",
            "Predicted (English): united of the united nations system and the united nations <eos>\n",
            "BLEU Score: 0.2068\n",
            "\n",
            "Source (French): La Commission reprend l'examen de cette question.\n",
            "Reference (English): The Committee resumed its consideration of this agenda item.\n",
            "Predicted (English): the chairman of the consideration of the <eos>\n",
            "BLEU Score: 0.0506\n",
            "\n",
            "Source (French): Lettre datée du 17 juillet 2000, adressée au Président de la Cinquième Commission par le Président de l'Assemblée générale (A/C.5/55/2)\n",
            "Reference (English): Letter dated 17 July 2000 from the President of the General Assembly addressed to the Chairman of the Fifth Committee (A/C.5/55/2)\n",
            "Predicted (English): recalling will be a meeting of the general assembly on the general assembly on the general assembly , <eos>\n",
            "BLEU Score: 0.1023\n",
            "\n",
            "Source (French): Des déclarations sont faites par les représentants des pays suivants : Tadjikistan, Bulgarie, République arabe syrienne, Somalie, Philippines, Fédération de Russie, Bélarus, Comores, Ukraine, Jamahiriya arabe libyenne, Inde, Tunisie, Cuba et Kirghizistan.\n",
            "Reference (English): Statements were made by the representatives of Tajikistan, Bulgaria, the Syrian Arab Republic, Somalia, the Philippines, the Russian Federation, Belarus, Comoros, Ukraine, the Libyan Arab Jamahiriya, India, Tunisia, Cuba and Kyrgyzstan.\n",
            "Predicted (English): statements were made by the representatives of the united nations , , , , , , , , <eos>\n",
            "BLEU Score: 0.1017\n",
            "\n"
          ]
        }
      ]
    },
    {
      "cell_type": "code",
      "source": [
        "print(\"\\nTranslations with Attention:\")\n",
        "translations_attn = []\n",
        "smoothie = SmoothingFunction().method1\n",
        "for src, ref in zip(test_sentences, reference_translations):\n",
        "    pred = translate_sentence(model_attn, src, src_vocab, trg_vocab, src_tokenizer)\n",
        "    translations_attn.append(pred)\n",
        "    ref_tokens = trg_tokenizer(ref.lower())\n",
        "    pred_tokens = pred.split()\n",
        "    bleu_score = sentence_bleu([ref_tokens], pred_tokens, smoothing_function=smoothie)\n",
        "    print(f\"Source (French): {src}\")\n",
        "    print(f\"Reference (English): {ref}\")\n",
        "    print(f\"Predicted (English): {pred}\")\n",
        "    print(f\"BLEU Score: {bleu_score:.4f}\\n\")"
      ],
      "metadata": {
        "colab": {
          "base_uri": "https://localhost:8080/"
        },
        "id": "5ELPGRSHk004",
        "outputId": "2b3d7d18-0c91-486a-aa59-5b668bfd86d6"
      },
      "execution_count": 28,
      "outputs": [
        {
          "output_type": "stream",
          "name": "stdout",
          "text": [
            "\n",
            "Translations with Attention:\n",
            "Source (French): Rapports du Corps commun d'inspection\n",
            "Reference (English): Reports of the Joint Inspection Unit\n",
            "Predicted (English): conclusion of the office of the <eos>\n",
            "BLEU Score: 0.0699\n",
            "\n",
            "Source (French): Le Président du Corps commun d'inspection, M. Louis-Dominique Ouedraogo (Burkina Faso), présente le rapport du Corps commun d'inspection (A/55/34) et le programme du Corps pour 2000 et la liste préliminaire des questions pouvant faire l'objet de rapports en 2001 et au-delà (A/54/ 960).\n",
            "Reference (English): The Chairman of the Joint Inspection Unit, Mr. Louis-Dominique Ouedraogo (Burkina Faso), introduced the annual report of the Unit (A/55/34) and on the work programme of the Joint Inspection Unit for 2000 and the preliminary listing of potential reports for 2001 and beyond (A/54/960).\n",
            "Predicted (English): the committee decided , by acclamation , the , the , , , , , , , the <eos>\n",
            "BLEU Score: 0.0025\n",
            "\n",
            "Source (French): Des déclarations sont faites par les représentants des pays suivants : France (au nom de l'Union européenne et également au nom de l'Estonie, de la Hongrie, de la Pologne, de la Roumanie, de Chypre et de Malte), Bangladesh, Burkina Faso, États-Unis et République arabe syrienne.\n",
            "Reference (English): Statements were made by the representatives of France (on behalf of the European Union and also on behalf of Estonia, Hungary, Poland, Romania, Cyprus and Malta), Bangladesh, Burkina Faso, the United States and the Syrian Arab Republic.\n",
            "Predicted (English): statements were made by the representatives of the united of the united of the united nations university ( <eos>\n",
            "BLEU Score: 0.0902\n",
            "\n",
            "Source (French): Le Président du Corps commun d'inspection répond aux questions posées.\n",
            "Reference (English): The Chairman of the Joint Inspection Unit replied to questions raised.\n",
            "Predicted (English): the chairman of the consideration of the consideration . <eos>\n",
            "BLEU Score: 0.2274\n",
            "\n",
            "Source (French): La Commission termine ainsi le débat général sur cette question.\n",
            "Reference (English): The Committee thus concluded its general discussion of this question.\n",
            "Predicted (English): the chairman of the consideration of the special representative of the <eos>\n",
            "BLEU Score: 0.0203\n",
            "\n",
            "Source (French): Le Président informe la Commission que des consultations officieuses sur cette question commenceront le jeudi 28 septembre, dans la matinée, sous la conduite de M. Hae-yun Park (République de Corée), Vice-Président de la Commission.\n",
            "Reference (English): The Chairman informed the Committee that informal consultations on this question would begin on Thursday, 28 September, in the morning, under the chairmanship of Mr. Hae-yun Park (Republic of Korea), Vice-Chairman of the Committee.\n",
            "Predicted (English): the office of the office of the special representative of the united nations office of the united of <eos>\n",
            "BLEU Score: 0.0091\n",
            "\n",
            "Source (French): Barème des quotes-parts pour la répartition des dépenses de l'Organisation des Nations Unies\n",
            "Reference (English): Scale of assessments for the apportionment of the expenses of the United Nations\n",
            "Predicted (English): united nations office of the united nations institute of the united nations institute <eos>\n",
            "BLEU Score: 0.2114\n",
            "\n",
            "Source (French): La Commission reprend l'examen de cette question.\n",
            "Reference (English): The Committee resumed its consideration of this agenda item.\n",
            "Predicted (English): the chairman of the consideration of the special council <eos>\n",
            "BLEU Score: 0.0494\n",
            "\n",
            "Source (French): Lettre datée du 17 juillet 2000, adressée au Président de la Cinquième Commission par le Président de l'Assemblée générale (A/C.5/55/2)\n",
            "Reference (English): Letter dated 17 July 2000 from the President of the General Assembly addressed to the Chairman of the Fifth Committee (A/C.5/55/2)\n",
            "Predicted (English): welcomes the secretary-general of the general assembly of the special representative of the united of the united of <eos>\n",
            "BLEU Score: 0.1181\n",
            "\n",
            "Source (French): Des déclarations sont faites par les représentants des pays suivants : Tadjikistan, Bulgarie, République arabe syrienne, Somalie, Philippines, Fédération de Russie, Bélarus, Comores, Ukraine, Jamahiriya arabe libyenne, Inde, Tunisie, Cuba et Kirghizistan.\n",
            "Reference (English): Statements were made by the representatives of Tajikistan, Bulgaria, the Syrian Arab Republic, Somalia, the Philippines, the Russian Federation, Belarus, Comoros, Ukraine, the Libyan Arab Jamahiriya, India, Tunisia, Cuba and Kyrgyzstan.\n",
            "Predicted (English): statements were made by the representatives of the united of the united of the united nations university , <eos>\n",
            "BLEU Score: 0.0926\n",
            "\n"
          ]
        }
      ]
    },
    {
      "cell_type": "code",
      "source": [
        "avg_bleu_attn = np.mean([sentence_bleu([trg_tokenizer(ref.lower())], pred.split(), smoothing_function=smoothie)\n",
        "                         for ref, pred in zip(reference_translations, translations_attn)])\n",
        "avg_bleu_no_attn = np.mean([sentence_bleu([trg_tokenizer(ref.lower())], pred.split(), smoothing_function=smoothie)\n",
        "                            for ref, pred in zip(reference_translations, translations_no_attn)])\n",
        "print(f\"Average BLEU Score with Attention: {avg_bleu_attn:.4f}\")\n",
        "print(f\"Average BLEU Score without Attention: {avg_bleu_no_attn:.4f}\")"
      ],
      "metadata": {
        "colab": {
          "base_uri": "https://localhost:8080/"
        },
        "id": "V9DeE14tk8xv",
        "outputId": "e885211e-17a0-472d-ca3e-84582e61bf39"
      },
      "execution_count": 29,
      "outputs": [
        {
          "output_type": "stream",
          "name": "stdout",
          "text": [
            "Average BLEU Score with Attention: 0.0891\n",
            "Average BLEU Score without Attention: 0.0750\n"
          ]
        }
      ]
    },
    {
      "cell_type": "markdown",
      "source": [
        "If we have to say something, the attention contained model seems to **perform slightly better** than the one without attention. From both the training result, and the BLEU score, both shows that **model with attention does a slightly better job**.\n",
        "\n",
        "However, without **adequate data loaded and iterations**, which is due to the computational limitations, the little portion of training data cannot really make the result representative and convincing."
      ],
      "metadata": {
        "id": "28cPWP5FjrZv"
      }
    }
  ]
}